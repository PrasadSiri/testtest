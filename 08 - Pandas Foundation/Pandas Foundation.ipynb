{
 "cells": [
  {
   "cell_type": "markdown",
   "metadata": {},
   "source": [
    "# Course(8) - pandas Foundations\n",
    "\n",
    "## Chapter(1) -  Data ingestion & inspection\n",
    "\n",
    "###  Exercise(2) - Inspecting your data\n",
    "You can use the DataFrame methods `.head()` and `.tail()` to view the first few and last few rows of a DataFrame. In this exercise, we have imported pandas as `pd` and loaded population data from 1960 to 2014 as a DataFrame `df`. This dataset was obtained from the `World Bank`.\n",
    "\n",
    "Your job is to use `df.head()` and `df.tail()` to verify that the first and last rows match a file on disk. In later exercises, you will see how to extract values from DataFrames with indexing, but for now, manually copy/paste or type values into assignment statements where needed. Select the correct answer for the first and last values in the `'Year'` and `'Total Population'` columns.\n",
    "\n",
    "#### Instructions\n",
    "\n",
    "##### Possible Answers\n",
    "1. First: 1980, 26183676.0; Last: 2000, 35.\n",
    "2. First: 1960, 92495902.0; Last: 2014, 15245855.0.\n",
    "3. First: 40.472, 2001; Last: 44.5, 1880.\n",
    "4. First: CSS, 104170.0; Last: USA, 95.203.\n",
    "\n",
    "\n",
    "### The Answer is (2)"
   ]
  },
  {
   "cell_type": "markdown",
   "metadata": {},
   "source": [
    "### Exercise(3) - DataFrame data types\n",
    "\n",
    "Pandas is aware of the data types in the columns of your DataFrame. It is also aware of null and `NaN` ('Not-a-Number') types which often indicate missing data. In this exercise, we have imported pandas as `pd` and read in the world population data which contains some `NaN` values, a value often used as a place-holder for missing or otherwise invalid data entries. Your job is to use `df.info()` to determine information about the total count of `non-null` entries and infer the total count of 'null' entries, which likely indicates missing data. Select the best description of this data set from the following:\n",
    "\n",
    "\n",
    "#### Instructions\n",
    "\n",
    "##### Possible Answers\n",
    "1. The data is all of type float64 and none of it is missing.\n",
    "2. The data is of mixed type, and 9914 of it is missing.\n",
    "3. The data is of mixed type, and 3460 float64s are missing.\n",
    "4. The data is all of type float64, and 3460 float64s are missing.\n",
    "\n",
    "### The answer is(3)"
   ]
  },
  {
   "cell_type": "markdown",
   "metadata": {},
   "source": [
    "### Exercise(4) - NumPy and pandas working together\n",
    "\n",
    "Pandas depends upon and interoperates with NumPy, the Python library for fast numeric array computations. For example, you can use the DataFrame attribute `.values` to represent a DataFrame `df` as a NumPy array. You can also pass pandas data structures to NumPy methods. In this exercise, we have imported pandas as `pd` and loaded world population data every 10 years since 1960 into the DataFrame `df`. This dataset was derived from the one used in the previous exercise.\n",
    "\n",
    "Your job is to extract the values and store them in an array using the attribute `.values`. You'll then use those values as input into the NumPy `np.log10()` method to compute the base 10 logarithm of the population values. Finally, you will pass the entire pandas DataFrame into the same NumPy` np.log10()` method and compare the results.\n",
    "\n",
    "#### Instructions\n",
    "\n",
    "* Import `numpy` using the standard alias `np`.\n",
    "* Assign the numerical values in the DataFrame `df` to an array `np_vals` using the attribute `values`.\n",
    "* Pass `np_vals` into the NumPy method `log10()` and store the results in `np_vals_log10`.\n",
    "* Pass the entire `df` DataFrame into the NumPy method `log10()` and store the results in `df_log10`.\n",
    "* Inspect the output of the `print()` code to see the `type()` of the variables that you created."
   ]
  },
  {
   "cell_type": "markdown",
   "metadata": {},
   "source": [
    "\n",
    "``` python\n",
    "# Import numpy\n",
    "\n",
    "\n",
    "# Create array of DataFrame values: np_vals\n",
    "np_vals = ____\n",
    "\n",
    "# Create new array of base 10 logarithm values: np_vals_log10\n",
    "np_vals_log10 = ____\n",
    "\n",
    "# Create array of new DataFrame by passing df to np.log10(): df_log10\n",
    "df_log10 = ____\n",
    "\n",
    "# Print original and new data containers\n",
    "[print(x, 'has type', type(eval(x))) for x in ['np_vals', 'np_vals_log10', 'df', 'df_log10']]```\n"
   ]
  },
  {
   "cell_type": "code",
   "execution_count": 1,
   "metadata": {},
   "outputs": [
    {
     "name": "stdout",
     "output_type": "stream",
     "text": [
      "np_vals has type <class 'numpy.ndarray'>\n",
      "np_vals_log10 has type <class 'numpy.ndarray'>\n",
      "df has type <class 'pandas.core.frame.DataFrame'>\n",
      "df_log10 has type <class 'pandas.core.frame.DataFrame'>\n"
     ]
    },
    {
     "data": {
      "text/plain": [
       "[None, None, None, None]"
      ]
     },
     "execution_count": 1,
     "metadata": {},
     "output_type": "execute_result"
    }
   ],
   "source": [
    "# Test Change for Gitlab issue\n",
    "# import pandas as pd\n",
    "import pandas as  pd\n",
    "df = pd.read_csv(\"world population.csv\")\n",
    "\n",
    "# Import numpy\n",
    "import numpy as np\n",
    "\n",
    "# Create array of DataFrame values: np_vals\n",
    "np_vals = np.array(df)\n",
    "\n",
    "# Create new array of base 10 logarithm values: np_vals_log10\n",
    "np_vals_log10 = np.log10(np_vals)\n",
    "\n",
    "# Create array of new DataFrame by passing df to np.log10(): df_log10\n",
    "df_log10 = np.log10(df)\n",
    "\n",
    "# Print original and new data containers\n",
    "[print(x, 'has type', type(eval(x))) for x in ['np_vals', 'np_vals_log10', 'df', 'df_log10']]"
   ]
  },
  {
   "cell_type": "markdown",
   "metadata": {},
   "source": [
    "### Exercise (6) -  Zip lists to build a DataFrame\n",
    "In this exercise, you're going to make a pandas DataFrame of the top three countries to win gold medals since 1896 by first building a dictionary. `` list_keys `` contains the column names `` 'Country' `` and `` 'Total' ``. `` list_values `` containsthe full names of each country and the number of gold medals awarded. The values have been taken from [Wikipedia](https://en.wikipedia.org/wiki/All-time_Olympic_Games_medal_table).\n",
    "Your job is to use these lists to construct a list of tuples, use the list of tuples to construct a dictionary, and then use that dictionary to construct a DataFrame. In doing so, you'll make use of the `` list() ``, `` zip() ``, `` dict() `` and `` pd.DataFrame() `` functions. Pandas has already been imported as `` pd ``.\n",
    "Note: The [`` zip() ``](https://docs.python.org/3/library/functions.html#zip) function in Python 3 and above returns a special zip object, which is essentially a generator. To convert this `` zip `` object into a list, you'll need to use `` list() ``. You can learn more about the `` zip() `` function as well as generators in [Python Data Science Toolbox (Part 2)](https://www.datacamp.com/courses/python-data-science-toolbox-part-2).\n",
    "\n",
    "\n",
    "\n",
    "#### Instructions\n",
    "\n",
    "\n",
    "*   Zip the 2 lists `` list_keys `` and `` list_values `` together into one list of (key, value) tuples. Be sure to convert the `` zip `` object into a list, and store the result in `` zipped ``.\n",
    "*   Inspect the contents of `` zipped `` using `` print() ``. This has been done for you.\n",
    "*   Construct a dictionary using `` zipped ``. Store the result as `` data ``.\n",
    "*   Construct a DataFrame using the dictionary. Store the result as `` df ``."
   ]
  },
  {
   "cell_type": "markdown",
   "metadata": {},
   "source": [
    "``` python\n",
    "# Zip the 2 lists together into one list of (key,value) tuples: zipped\n",
    "zipped = ____\n",
    "\n",
    "# Inspect the list using print()\n",
    "print(zipped)\n",
    "\n",
    "# Build a dictionary with the zipped list: data\n",
    "data = ____\n",
    "\n",
    "# Build and inspect a DataFrame from the dictionary: df\n",
    "df = ____\n",
    "print(df)```"
   ]
  },
  {
   "cell_type": "code",
   "execution_count": 2,
   "metadata": {},
   "outputs": [
    {
     "name": "stdout",
     "output_type": "stream",
     "text": [
      "[('Country', ['United States', 'Soviet Union', 'United Kingdom']), ('Total', [1118, 473, 273])]\n",
      "          Country  Total\n",
      "0   United States   1118\n",
      "1    Soviet Union    473\n",
      "2  United Kingdom    273\n"
     ]
    }
   ],
   "source": [
    "# give the list_keys and list_values\n",
    "list_keys = ['Country', 'Total']\n",
    "list_values = [['United States', 'Soviet Union', 'United Kingdom'], [1118, 473, 273]]\n",
    "\n",
    "# Zip the 2 lists together into one list of (key,value) tuples: zipped\n",
    "zipped = list(zip(list_keys,list_values))\n",
    "\n",
    "# Inspect the list using print()\n",
    "print(zipped)\n",
    "\n",
    "# Build a dictionary with the zipped list: data\n",
    "data = dict(zipped)\n",
    "\n",
    "# Build and inspect a DataFrame from the dictionary: df\n",
    "df = pd.DataFrame(data)\n",
    "print(df)"
   ]
  },
  {
   "cell_type": "markdown",
   "metadata": {},
   "source": [
    "### Exercise (7) - Labeling your data\n",
    "You can use the DataFrame attribute `` df.columns `` to view and assign new string labels to columns in a pandas DataFrame.\n",
    "In this exercise, we have imported pandas as `` pd `` and defined a DataFrame `` df `` containing top Billboard hits from the1980s (from [Wikipedia](https://en.wikipedia.org/wiki/List_of_Billboard_Hot_100_number-one_singles_of_the_1980s#1980)). Each row has the year, artist, song name and the number of weeks at the top. However, this DataFrame has the columnlabels `` a, b, c, d ``. Your job is to use the `` df.columns `` attribute to re-assign descriptive column labels.\n",
    "\n",
    "\n",
    "\n",
    "#### Instructions\n",
    "\n",
    "\n",
    "*   Create a list of new column labels with `` 'year' ``, `` 'artist' ``, `` 'song' ``, `` 'chart weeks' ``, and assign it to `` list_labels ``. \n",
    "*   Assign your list of labels to `` df.columns ``."
   ]
  },
  {
   "cell_type": "markdown",
   "metadata": {},
   "source": [
    "``` python\n",
    "# Build a list of labels: list_labels\n",
    "list_labels = ____\n",
    "\n",
    "# Assign the list of labels to the columns attribute: df.columns\n",
    "____ = list_labels```"
   ]
  },
  {
   "cell_type": "code",
   "execution_count": 3,
   "metadata": {},
   "outputs": [
    {
     "data": {
      "text/html": [
       "<div>\n",
       "<style scoped>\n",
       "    .dataframe tbody tr th:only-of-type {\n",
       "        vertical-align: middle;\n",
       "    }\n",
       "\n",
       "    .dataframe tbody tr th {\n",
       "        vertical-align: top;\n",
       "    }\n",
       "\n",
       "    .dataframe thead th {\n",
       "        text-align: right;\n",
       "    }\n",
       "</style>\n",
       "<table border=\"1\" class=\"dataframe\">\n",
       "  <thead>\n",
       "    <tr style=\"text-align: right;\">\n",
       "      <th></th>\n",
       "      <th>year</th>\n",
       "      <th>artist</th>\n",
       "      <th>song</th>\n",
       "      <th>chart weeks</th>\n",
       "    </tr>\n",
       "  </thead>\n",
       "  <tbody>\n",
       "    <tr>\n",
       "      <th>0</th>\n",
       "      <td>1980</td>\n",
       "      <td>Blondie</td>\n",
       "      <td>Call Me</td>\n",
       "      <td>6</td>\n",
       "    </tr>\n",
       "    <tr>\n",
       "      <th>1</th>\n",
       "      <td>1981</td>\n",
       "      <td>Chistorpher Cross</td>\n",
       "      <td>Arthurs Theme</td>\n",
       "      <td>3</td>\n",
       "    </tr>\n",
       "    <tr>\n",
       "      <th>2</th>\n",
       "      <td>1982</td>\n",
       "      <td>Joan Jett</td>\n",
       "      <td>I Love Rock and Roll</td>\n",
       "      <td>7</td>\n",
       "    </tr>\n",
       "  </tbody>\n",
       "</table>\n",
       "</div>"
      ],
      "text/plain": [
       "   year               artist                    song  chart weeks\n",
       "0  1980              Blondie                 Call Me            6\n",
       "1  1981    Chistorpher Cross           Arthurs Theme            3\n",
       "2  1982            Joan Jett    I Love Rock and Roll            7"
      ]
     },
     "execution_count": 3,
     "metadata": {},
     "output_type": "execute_result"
    }
   ],
   "source": [
    "df = pd.read_csv(\"medals.csv\")\n",
    "\n",
    "\n",
    "# Build a list of labels: list_labels\n",
    "list_labels = ['year','artist','song','chart weeks']\n",
    "\n",
    "df\n",
    "\n",
    "# Assign the list of labels to the columns attribute: df.columns\n",
    "df.columns = list_labels\n",
    "\n",
    "\n",
    "df"
   ]
  },
  {
   "cell_type": "markdown",
   "metadata": {},
   "source": [
    "### Exercise(8) -  Building DataFrames with broadcasting\n",
    "You can implicitly use &amp;aposbroadcasting&amp;apos, a feature of NumPy, when creating pandas DataFrames. In this exercise,you&amp;aposre going to create a DataFrame of cities in Pennsylvania that contains the city name in one column and the state namein the second. We have imported the names of 15 cities as the list `` cities ``.\n",
    "Your job is to construct a DataFrame from the list of cities and the string `` &amp;aposPA&amp;apos ``.\n",
    "\n",
    "\n",
    "\n",
    "#### Instructions\n",
    "\n",
    "\n",
    "*   Make a string object with the value `` &amp;aposPA&amp;apos `` and assign it to `` state ``.\n",
    "*   Construct a dictionary with 2 key:value pairs: `` &amp;aposstate&amp;apos:state `` and `` &amp;aposcity&amp;apos:cities ``.\n",
    "*   Construct a pandas DataFrame from the dictionary you created and assign it to `` df ``."
   ]
  },
  {
   "cell_type": "markdown",
   "metadata": {},
   "source": [
    "``` python\n",
    "# Make a string with the value 'PA': state\n",
    "state = ____\n",
    "\n",
    "# Construct a dictionary: data\n",
    "data = {'state':____, 'city':____}\n",
    "\n",
    "# Construct a DataFrame from dictionary data: df\n",
    "df = ____\n",
    "\n",
    "# Print the DataFrame\n",
    "print(df)```"
   ]
  },
  {
   "cell_type": "code",
   "execution_count": 4,
   "metadata": {},
   "outputs": [
    {
     "name": "stdout",
     "output_type": "stream",
     "text": [
      "   state             city\n",
      "0     PA          Manheim\n",
      "1     PA     Preston park\n",
      "2     PA      Biglerville\n",
      "3     PA          Indiana\n",
      "4     PA     Curwensville\n",
      "5     PA            Crown\n",
      "6     PA     Harveys lake\n",
      "7     PA  Mineral springs\n",
      "8     PA        Cassville\n",
      "9     PA       Hannastown\n",
      "10    PA        Saltsburg\n",
      "11    PA      Tunkhannock\n",
      "12    PA       Pittsburgh\n",
      "13    PA        Lemasters\n",
      "14    PA       Great bend\n"
     ]
    }
   ],
   "source": [
    "# Make a string with the value 'PA': state\n",
    "state = 'PA'\n",
    "cities = ['Manheim','Preston park','Biglerville','Indiana','Curwensville','Crown','Harveys lake','Mineral springs','Cassville','Hannastown','Saltsburg','Tunkhannock','Pittsburgh','Lemasters','Great bend']\n",
    "# Construct a dictionary: data\n",
    "data = {'state':state, 'city':cities}\n",
    "\n",
    "# Construct a DataFrame from dictionary data: df\n",
    "df = pd.DataFrame(data)\n",
    "\n",
    "# Print the DataFrame\n",
    "print(df)"
   ]
  },
  {
   "cell_type": "markdown",
   "metadata": {},
   "source": [
    "### Exercise(10) - Reading a flat file\n",
    "In previous exercises, we have preloaded the data for you using the pandas function `` read_csv() ``. Now, it&amp;aposs your turn!Your job is to read the World Bank population data you saw earlier into a DataFrame using `` read_csv() ``. The file is available in the variable `` data_file ``.\n",
    "The next step is to reread the same file, but simultaneously rename the columns using the `` names `` keyword input parameter, set equal to a list of new column labels. You will also need to set `` header=0 `` to rename the column labels.\n",
    "Finish up by inspecting the result with `` df.head() `` and `` df.info() `` in the IPython Shell (changing `` df `` to the name of your DataFrame variable). \n",
    "`` pandas `` has already been imported and is available in the workspace as `` pd ``.\n",
    "\n",
    "\n",
    "\n",
    "#### Instructions\n",
    "\n",
    "\n",
    "*   Use `` pd.read_csv() `` with the string `` data_file `` to read the CSV file into a DataFrame and assign it to `` df1 ``.\n",
    "*   Create a list of new column labels - `` year ``, `` population `` - and assign it to the variable `` new_labels ``.\n",
    "*   Reread the same file, again using `` pd.read_csv() ``, but this time, add the keyword arguments `` header=0 `` and `` names=new_labels ``. Assign the resulting DataFrame to `` df2 ``.\n",
    "*   Print both the `` df1 `` and `` df2 `` DataFrames to see the change in column names. This has already been done for you.\n"
   ]
  },
  {
   "cell_type": "markdown",
   "metadata": {},
   "source": [
    "``` python\n",
    "# Read in the file: df1\n",
    "df1 = ____\n",
    "\n",
    "# Create a list of the new column labels: new_labels\n",
    "new_labels = ____\n",
    "\n",
    "# Read in the file, specifying the header and names parameters: df2\n",
    "df2 = ____(data_file, ____=0, ____=new_labels)\n",
    "\n",
    "# Print both the DataFrames\n",
    "print(df1)\n",
    "print(df2)```"
   ]
  },
  {
   "cell_type": "code",
   "execution_count": 5,
   "metadata": {},
   "outputs": [
    {
     "name": "stdout",
     "output_type": "stream",
     "text": [
      "   Year  Total Population\n",
      "0  1960      3.034971e+09\n",
      "1  1970      3.684823e+09\n",
      "2  1980      4.436590e+09\n",
      "3  1990      5.282716e+09\n",
      "4  2000      6.115974e+09\n",
      "5  2010      6.924283e+09\n",
      "   year    population\n",
      "0  1960  3.034971e+09\n",
      "1  1970  3.684823e+09\n",
      "2  1980  4.436590e+09\n",
      "3  1990  5.282716e+09\n",
      "4  2000  6.115974e+09\n",
      "5  2010  6.924283e+09\n"
     ]
    }
   ],
   "source": [
    "# Read in the file: df1\n",
    "data_file = \"world population.csv\"\n",
    "df1 = pd.read_csv(data_file)\n",
    "\n",
    "# Create a list of the new column labels: new_labels\n",
    "new_labels = ['year','population']\n",
    "\n",
    "# Read in the file, specifying the header and names parameters: df2\n",
    "df2 = pd.read_csv(data_file, header=0, names=new_labels)\n",
    "\n",
    "# Print both the DataFrames\n",
    "print(df1)\n",
    "print(df2)"
   ]
  },
  {
   "cell_type": "markdown",
   "metadata": {},
   "source": [
    "### Exercise(11) - Delimiters, headers, and extensions\n",
    "Not all data files are clean and tidy. Pandas provides methods for reading those not-so-perfect data files that you encounter far too often.\n",
    "In this exercise, you have monthly stock data for four companies downloaded from[Yahoo Finance](http://finance.yahoo.com). The data is stored as one row for each company and each column is theend-of-month closing price. The file name is given to you in the variable `` file_messy ``.\n",
    "In addition, this file has three aspects that may cause trouble for lesser tools: multiple header lines, comment records (rows) interleaved throughout the data rows, and space delimiters instead of commas.\n",
    "Your job is to use pandas to read the data from this problematic `` file_messy `` using non-default input options with `` read_csv() `` so as to tidy up the mess at read time. Then, write the cleaned up data to a CSV file with the variable `` file_clean `` that has been prepared for you, as you might do in a real data workflow.\n",
    "You can learn about the option input parameters needed by using `` help() `` on the pandas function `` pd.read_csv() ``.\n",
    "\n",
    "\n",
    "\n",
    "#### Instructions\n",
    "\n",
    "\n",
    "*   Use `` pd.read_csv() `` _without using any keyword arguments_ to read `` file_messy `` into a pandas DataFrame `` df1 ``.\n",
    "*   Use `` .head() `` to print the first 5 rows of `` df1 `` and see how messy it is. Do this in the IPython Shell first so you can see how modifying `` read_csv() `` can clean up this mess.\n",
    "*   Using the keyword arguments `` delimiter= '' ``, `` header=3 `` and `` comment='#' ``, use `` pd.read_csv() `` again to read `` file_messy `` into a new DataFrame `` df2 ``.\n",
    "*   Print the output of `` df2.head() `` to verify the file was read correctly.\n",
    "*   Use the DataFrame method `` .to_csv() `` to save the DataFrame `` df2 `` to the variable `` file_clean ``. Be sure to specify `` index=False ``.\n",
    "*   Use the DataFrame method `` .to_excel() `` to save the DataFrame `` df2 `` to the file `` file_clean.xlsx ``. Again, remember to specify `` index=False ``."
   ]
  },
  {
   "cell_type": "markdown",
   "metadata": {},
   "source": [
    "``` python\n",
    "# Read the raw file as-is: df1\n",
    "df1 = pd.read_csv(____)\n",
    "\n",
    "# Print the output of df1.head()\n",
    "print(df1.head())\n",
    "\n",
    "# Read in the file with the correct parameters: df2\n",
    "df2 = pd.read_csv(____, delimiter=____, header=____, comment=____)\n",
    "\n",
    "# Print the output of df2.head()\n",
    "print(df2.head())\n",
    "\n",
    "# Save the cleaned up DataFrame to a CSV file without the index\n",
    "df2.____(file_clean, index=False)\n",
    "\n",
    "# Save the cleaned up DataFrame to an excel file without the index\n",
    "df2.____('file_clean.xlsx', index=False)```"
   ]
  },
  {
   "cell_type": "code",
   "execution_count": 6,
   "metadata": {},
   "outputs": [
    {
     "name": "stdout",
     "output_type": "stream",
     "text": [
      "                                                   The following stock data was collect on 2016-AUG-25 from an unknown source\n",
      "These kind of ocmments are not very useful                                                  are they?                        \n",
      "probably should just throw this line away too          but not the next since those are column labels                        \n",
      "name Jan Feb Mar Apr May Jun Jul Aug Sep Oct No...                                                NaN                        \n",
      "# So that line you just read has all the column...                                                NaN                        \n",
      "IBM 156.08 160.01 159.81 165.22 172.25 167.15 1...                                                NaN                        \n",
      "     name     Jan     Feb     Mar     Apr     May     Jun     Jul     Aug  \\\n",
      "0     IBM  156.08  160.01  159.81  165.22  172.25  167.15  164.75  152.77   \n",
      "1    MSFT   45.51   43.08   42.13   43.47   47.53   45.96   45.61   45.51   \n",
      "2  GOOGLE  512.42  537.99  559.72  540.50  535.24  532.92  590.09  636.84   \n",
      "3   APPLE  110.64  125.43  125.97  127.29  128.76  127.81  125.34  113.39   \n",
      "\n",
      "      Sep     Oct     Nov     Dec  \n",
      "0  145.36  146.11  137.21  137.96  \n",
      "1   43.56   48.70   53.88   55.40  \n",
      "2  617.93  663.59  735.39  755.35  \n",
      "3  112.80  113.36  118.16  111.73  \n"
     ]
    }
   ],
   "source": [
    "# Read the raw file as-is: df1\n",
    "file_messy = \"messy_stock_data.tsv\"\n",
    "file_clean = 'tmp_clean_stock_data.csv'\n",
    "df1 = pd.read_csv(file_messy)\n",
    "\n",
    "# Print the output of df1.head()\n",
    "print(df1.head())\n",
    "\n",
    "# Read in the file with the correct parameters: df2\n",
    "df2 = pd.read_csv(file_messy, delimiter=' ', header=3, comment='#')\n",
    "\n",
    "# Print the output of df2.head()\n",
    "print(df2.head())\n",
    "\n",
    "# Save the cleaned up DataFrame to a CSV file without the index\n",
    "df2.to_csv(file_clean, index=False)\n",
    "\n",
    "# Save the cleaned up DataFrame to an excel file without the index\n",
    "df2.to_excel('file_clean.xlsx', index=False)"
   ]
  },
  {
   "cell_type": "markdown",
   "metadata": {},
   "source": [
    "### Exercise(13) - Plotting series using pandas\n",
    "Data visualization is often a very effective first step in gaining a rough understanding of a data set to be analyzed. Pandas provides data visualization by both depending upon and interoperating with the matplotlib library. You will now explore some of the basic plotting mechanics with pandas as well as related matplotlib options. We have pre-loaded a pandas DataFrame `` df `` which contains the data you need. Your job is to use the DataFrame method `` df.plot() `` to visualize the data, and then explore the optional matplotlib input parameters that this `` .plot() `` method accepts.\n",
    "The pandas `` .plot() `` method makes calls to matplotlib to construct the plots. This means that you can usethe skills you&amp;aposve learned in previous visualization courses to customize the plot. In this exercise, you&amp;aposll add a customtitle and axis labels to the figure.\n",
    "Before plotting, inspect the DataFrame in the IPython Shell using `` df.head() ``. Also, use `` type(df) `` and note that it is a single column DataFrame.\n",
    "\n",
    "\n",
    "\n",
    "#### Instructions\n",
    "\n",
    "\n",
    "*   Create the plot with the DataFrame method `` df.plot() ``. Specify a `` color `` of `` red``.\n",
    "    \n",
    "    *   _Note_: `` c `` and `` color `` are interchangeable as parameters here, but we ask you to be explicit and specify `` color ``.\n",
    "    \n",
    "    \n",
    "    \n",
    "*   Use `` plt.title() `` to give the plot a title of `` Temperature in Austin ``.\n",
    "*   Use `` plt.xlabel() `` to give the plot an x-axis label of `` Hours since midnight August 1, 2010 ``.\n",
    "*   Use `` plt.ylabel() `` to give the plot a y-axis label of `` Temperature (degrees F) ``.\n",
    "*   Finally, display the plot using `` plt.show() ``."
   ]
  },
  {
   "cell_type": "markdown",
   "metadata": {},
   "source": [
    "\n",
    "``` python\n",
    "# Create a plot with color='red'\n",
    "\n",
    "\n",
    "# Add a title\n",
    "\n",
    "\n",
    "# Specify the x-axis label\n",
    "\n",
    "\n",
    "# Specify the y-axis label\n",
    "\n",
    "\n",
    "# Display the plot ```\n"
   ]
  },
  {
   "cell_type": "code",
   "execution_count": 7,
   "metadata": {},
   "outputs": [
    {
     "data": {
      "text/plain": [
       "<Figure size 640x480 with 1 Axes>"
      ]
     },
     "metadata": {},
     "output_type": "display_data"
    },
    {
     "name": "stdout",
     "output_type": "stream",
     "text": [
      "None\n"
     ]
    }
   ],
   "source": [
    "import matplotlib.pyplot as plt\n",
    "t = pd.read_csv('weather data austin 2010.csv')\n",
    "sf = t['Temperature']\n",
    "\n",
    "df = sf[5089:5833].reset_index(drop=True)\n",
    "# print(df)\n",
    "# Create a plot with color='red'\n",
    "df.plot(color = 'red')\n",
    "\n",
    "# Add a title\n",
    "plt.title('Temperature in Austin')\n",
    "\n",
    "# Specify the x-axis label\n",
    "plt.xlabel('Hours since midnight August 1, 2010')\n",
    "\n",
    "# Specify the y-axis label\n",
    "plt.ylabel('Temperature (degrees F)')\n",
    "\n",
    "# Display the plot\n",
    "print(plt.show())"
   ]
  },
  {
   "cell_type": "markdown",
   "metadata": {},
   "source": [
    "### Exercise(14) - Plotting DataFrames\n",
    "Comparing data from several columns can be very illuminating. Pandas makes doing so easy with multi-column DataFrames. By default, calling `` df.plot() `` will cause pandas to over-plot all column data, with each column as a single line. In this exercise, we have pre-loaded three columns of data from a weather data set - temperature, dew point, and pressure - but the problem is that pressure has different units of measure. The pressure data, measured in Atmospheres, has a different vertical scaling than that of the other two data columns, which are both measured in degrees Fahrenheit. \n",
    "Your job is to plot all columns as a multi-line plot, to see the nature of vertical scaling problem. Then, use a list of column names passed into the DataFrame `` df[column_list] `` to limit plotting to just one column, and then just 2 columns of data. When you are finished, you will have created 4 plots. You can cycle through them by clicking on the &amp;aposPrevious Plot&amp;apos and &amp;aposNext Plot&amp;apos buttons. \n",
    "As in the previous exercise, inspect the DataFrame `` df `` in the IPython Shell using the `` .head() `` and `` .info() `` methods.\n",
    "\n",
    "\n",
    "\n",
    "#### Instructions\n",
    "\n",
    "\n",
    "*   Plot all columns together on one figure by calling `` df.plot() ``, and noting the vertical scaling problem.\n",
    "*   Plot all columns as subplots. To do so, you need to specify `` subplots=True `` inside `` .plot() ``.\n",
    "*   Plot a single column of dew point data. To do this, define a column list containing a single column name `` Dew Point (deg F) ``, and call `` df[column_list1].plot() ``.\n",
    "*   Plot two columns of data, `` Temperature (deg F) `` and `` Dew Point (deg F) ``. To do this, define a list containing those column names and pass it into `` df[] ``, as `` df[column_list2].plot() ``.\n",
    "\n"
   ]
  },
  {
   "cell_type": "markdown",
   "metadata": {},
   "source": [
    "``` python\n",
    "# Plot all columns (default)\n",
    "____\n",
    "plt.show()\n",
    "\n",
    "# Plot all columns as subplots\n",
    "____\n",
    "plt.show()\n",
    "\n",
    "# Plot just the Dew Point data\n",
    "column_list1 = ['Dew Point (deg F)']\n",
    "____\n",
    "plt.show()\n",
    "\n",
    "# Plot the Dew Point and Temperature data, but not the Pressure data\n",
    "column_list2 = ['Temperature (deg F)','Dew Point (deg F)']\n",
    "____\n",
    "plt.show()```"
   ]
  },
  {
   "cell_type": "code",
   "execution_count": 8,
   "metadata": {},
   "outputs": [
    {
     "name": "stdout",
     "output_type": "stream",
     "text": [
      "   Temperature  DewPoint  Pressure\n",
      "0         76.4      71.3       1.0\n",
      "1         75.7      71.4       1.0\n",
      "2         75.1      71.4       1.0\n",
      "3         74.6      71.3       1.0\n",
      "4         74.5      71.3       1.0\n"
     ]
    },
    {
     "data": {
      "image/png": "[encoded data removed]",
      "text/plain": [
       "<Figure size 432x288 with 1 Axes>"
      ]
     },
     "metadata": {
      "needs_background": "light"
     },
     "output_type": "display_data"
    },
    {
     "data": {
      "image/png": "[encoded data removed]",
      "text/plain": [
       "<Figure size 432x288 with 3 Axes>"
      ]
     },
     "metadata": {
      "needs_background": "light"
     },
     "output_type": "display_data"
    },
    {
     "data": {
      "image/png": "[encoded data removed]",
      "text/plain": [
       "<Figure size 432x288 with 1 Axes>"
      ]
     },
     "metadata": {
      "needs_background": "light"
     },
     "output_type": "display_data"
    },
    {
     "data": {
      "image/png": "[encoded data removed]",
      "text/plain": [
       "<Figure size 432x288 with 1 Axes>"
      ]
     },
     "metadata": {
      "needs_background": "light"
     },
     "output_type": "display_data"
    }
   ],
   "source": [
    "t = pd.read_csv('weather data austin 2010.csv')\n",
    "sf = t[['Temperature', 'DewPoint', \"Pressure\"]]\n",
    "\n",
    "df = sf[5089:5833].reset_index(drop=True)\n",
    "\n",
    "print(df.head())\n",
    "\n",
    "# Plot all columns (default)\n",
    "df.plot()\n",
    "plt.show()\n",
    "\n",
    "# Plot all columns as subplots\n",
    "df.plot(subplots=True)\n",
    "plt.show()\n",
    "\n",
    "# Plot just the Dew Point data\n",
    "column_list1 = ['DewPoint']\n",
    "df[column_list1].plot()\n",
    "plt.show()\n",
    "\n",
    "# Plot the Dew Point and Temperature data, but not the Pressure data\n",
    "column_list2 = ['Temperature','DewPoint']\n",
    "df[column_list2].plot()\n",
    "plt.show()"
   ]
  },
  {
   "cell_type": "markdown",
   "metadata": {},
   "source": [
    "## Chapter  2 - Exploratory data analysis\n",
    "\n",
    "### Exercise(2) - pandas line plots\n",
    "In the previous chapter, you saw that the `` .plot() `` method will place the Index values on thex-axis by default. In this exercise, you&amp;aposll practice making line plots with specific columns on the xand y axes.\n",
    "You will work with a dataset consisting of monthly stock prices in 2015 for AAPL, GOOG, and IBM. The stock prices were obtained from [Yahoo Finance](http://finance.yahoo.com/). Your job is to plot the`` &amp;aposMonth&amp;apos `` column on the x-axis and the AAPL and IBM prices on the y-axis using a list of column names.\n",
    "All necessary modules have been imported for you, and the DataFrame is available in the workspace as `` df ``. Explore it using methodssuch as `` .head() ``, `` .info() ``, and `` .describe() `` to see the column names.\n",
    "\n",
    "\n",
    "\n",
    "#### Instructions\n",
    "\n",
    "\n",
    "*   Create a list of y-axis column names called `` y_columns `` consisting of ``AAPL `` and `` IBM ``.\n",
    "*   Generate a line plot with `` x=Month `` and `` y=y_columns `` as inputs.\n",
    "*   Give the plot a title of `` Monthly stock prices ``.\n",
    "*   Specify the y-axis label.\n",
    "*   Display the plot."
   ]
  },
  {
   "cell_type": "markdown",
   "metadata": {},
   "source": [
    "``` python\n",
    "# Create a list of y-axis column names: y_columns\n",
    "y_columns = ____\n",
    "\n",
    "# Generate a line plot\n",
    "df.plot(x=____, y=____)\n",
    "\n",
    "# Add the title\n",
    "plt.____('Monthly stock prices')\n",
    "\n",
    "# Add the y-axis label\n",
    "plt.____('Price ($US)')\n",
    "\n",
    "# Display the plot\n",
    "plt.____()```"
   ]
  },
  {
   "cell_type": "code",
   "execution_count": 9,
   "metadata": {},
   "outputs": [
    {
     "data": {
      "image/png": "[encoded data removed]",
      "text/plain": [
       "<Figure size 432x288 with 1 Axes>"
      ]
     },
     "metadata": {
      "needs_background": "light"
     },
     "output_type": "display_data"
    }
   ],
   "source": [
    "import matplotlib.pyplot as plt\n",
    "df = pd.read_csv(\"stock_data.csv\")\n",
    "# Create a list of y-axis column names: y_columns\n",
    "y_columns = ['AAPL','IBM']\n",
    "\n",
    "# Generate a line plot\n",
    "df.plot(x='Month', y=y_columns)\n",
    "\n",
    "\n",
    "# Add the title\n",
    "plt.title('Monthly stock prices')\n",
    "\n",
    "# Add the y-axis label\n",
    "plt.ylabel('Price ($US)')\n",
    "\n",
    "# Display the plot\n",
    "plt.show()"
   ]
  },
  {
   "cell_type": "markdown",
   "metadata": {},
   "source": [
    "### Exercise(3) - pandas scatter plots\n",
    "Pandas scatter plots are generated using the `` kind=scatter `` keyword argument. Scatter plots requirethat the x and y columns be chosen by specifying the `` x `` and `` y `` parameters inside `` .plot() ``. Scatter plots also take an `` s ``keyword argument to provide the radius of each circle to plot in pixels.\n",
    "In this exercise, you&amp;aposre going to plot fuel efficiency (miles-per-gallon) versus horse-power for 392 automobilesmanufactured from 1970 to 1982 from the [UCI Machine Learning Repository](https://archive.ics.uci.edu/ml/datasets/Auto+MPG). \n",
    "The size of each circle is provided as a NumPy array called `` sizes ``. This array contains the normalized `` weight `` of each automobile in the dataset.\n",
    "All necessary modules have been imported and the DataFrame is available in the workspace as `` df ``.\n",
    "\n",
    "\n",
    "\n",
    "#### Instructions\n",
    "\n",
    "\n",
    "*   Generate a scatter plot with `` hp `` on the x-axis and `` mpg `` on the y-axis. Specify `` s=sizes ``.\n",
    "*   Add a title to the plot.\n",
    "*   Specify the x-axis and y-axis labels."
   ]
  },
  {
   "cell_type": "markdown",
   "metadata": {},
   "source": [
    "``` python\n",
    "# Generate a scatter plot\n",
    "df.plot(____=____, ____='hp', ____='mpg', ____=sizes)\n",
    "\n",
    "# Add the title\n",
    "plt.____('Fuel efficiency vs Horse-power')\n",
    "\n",
    "# Add the x-axis label\n",
    "plt.____('Horse-power')\n",
    "\n",
    "# Add the y-axis label\n",
    "plt.____('Fuel efficiency (mpg)')\n",
    "\n",
    "# Display the plot\n",
    "plt.show()```"
   ]
  },
  {
   "cell_type": "code",
   "execution_count": 10,
   "metadata": {},
   "outputs": [],
   "source": [
    "from numpy import array\n",
    "sizes = array([ 51.12044694,  56.78387977,  49.15557238,  49.06977358,\n",
    "        49.52823321,  78.4595872 ,  78.93021696,  77.41479205,\n",
    "        81.52541106,  61.71459825,  52.85646225,  54.23007578,\n",
    "        58.89427963,  39.65137852,  23.42587473,  33.41639502,\n",
    "        32.03903011,  27.8650165 ,  18.88972581,  14.0196956 ,\n",
    "        29.72619722,  24.58549713,  23.48516821,  20.77938954,\n",
    "        29.19459189,  88.67676838,  79.72987328,  79.94866084,\n",
    "        93.23005042,  18.88972581,  21.34122243,  20.6679223 ,\n",
    "        28.88670381,  49.24144612,  46.14174741,  45.39631334,\n",
    "        45.01218186,  73.76057586,  82.96880195,  71.84547684,\n",
    "        69.85320595, 102.22421043,  93.78252358, 110.        ,\n",
    "        36.52889673,  24.14234281,  44.84805372,  41.02504618,\n",
    "        20.51976563,  18.765772  ,  17.9095202 ,  17.75442285,\n",
    "        13.08832041,  10.83266174,  14.00441945,  15.91328975,\n",
    "        21.60597587,  18.8188451 ,  21.15311208,  24.14234281,\n",
    "        20.63083317,  76.05635059,  80.05816704,  71.18975117,\n",
    "        70.98330444,  56.13992036,  89.36985382,  84.38736544,\n",
    "        82.6716892 ,  81.4149056 ,  22.60363518,  63.06844313,\n",
    "        69.92143863,  76.76982089,  69.2066568 ,  35.81711267,\n",
    "        26.25184749,  36.94940537,  19.95069229,  23.88237331,\n",
    "        21.79608472,  26.1474042 ,  19.49759118,  18.36136808,\n",
    "        69.98970461,  56.13992036,  66.21810474,  68.02351436,\n",
    "        59.39644014, 102.10046481,  82.96880195,  79.25686195,\n",
    "        74.74521151,  93.34830013, 102.05923292,  60.7883734 ,\n",
    "        40.55589449,  44.7388015 ,  36.11079464,  37.9986264 ,\n",
    "        35.11233175,  15.83199594, 103.96451839, 100.21241654,\n",
    "        90.18186347,  84.27493641,  32.38645967,  21.62494928,\n",
    "        24.00218436,  23.56434276,  18.78345471,  22.21725537,\n",
    "        25.44271071,  21.36007926,  69.37650986,  76.19877818,\n",
    "        14.51292942,  19.38962134,  27.75740889,  34.24717407,\n",
    "        48.10262495,  29.459795  ,  32.80584831,  55.89556844,\n",
    "        40.06360581,  35.03982309,  46.33599903,  15.83199594,\n",
    "        25.01226779,  14.03498009,  26.90404245,  59.52231336,\n",
    "        54.92349014,  54.35035315,  71.39649768,  91.93424995,\n",
    "        82.70879915,  89.56285636,  75.45251972,  20.50128352,\n",
    "        16.04379287,  22.02531454,  11.32159874,  16.70430249,\n",
    "        18.80114574,  18.50153068,  21.00322336,  25.79385418,\n",
    "        23.80266582,  16.65430211,  44.35746794,  49.815853  ,\n",
    "        49.04119063,  41.52318884,  90.72524338,  82.07906251,\n",
    "        84.23747672,  90.29816462,  63.55551901,  63.23059357,\n",
    "        57.92740995,  59.64831981,  38.45278922,  43.19643409,\n",
    "        41.81296121,  19.62393488,  28.99647648,  35.35456858,\n",
    "        27.97283229,  30.39744886,  20.57526193,  26.96758278,\n",
    "        37.07354237,  15.62160631,  42.92863291,  30.21771564,\n",
    "        36.40567571,  36.11079464,  29.70395123,  13.41514444,\n",
    "        25.27829944,  20.51976563,  27.54281821,  21.17188565,\n",
    "        20.18836167,  73.97101962,  73.09614831,  65.35749368,\n",
    "        73.97101962,  43.51889468,  46.80945169,  37.77255674,\n",
    "        39.6256851 ,  17.24230306,  19.49759118,  15.62160631,\n",
    "        13.41514444,  55.49963323,  53.18333207,  55.31736854,\n",
    "        42.44868923,  13.86730874,  16.48817545,  19.33574884,\n",
    "        27.3931002 ,  41.31307817,  64.63368105,  44.52069676,\n",
    "        35.74387954,  60.75655952,  79.87569835,  68.46177648,\n",
    "        62.35745431,  58.70651902,  17.41217694,  19.33574884,\n",
    "        13.86730874,  22.02531454,  15.75091031,  62.68013142,\n",
    "        68.63071356,  71.36201911,  76.80558184,  51.58836621,\n",
    "        48.84134317,  54.86301837,  51.73502816,  74.14661842,\n",
    "        72.22648148,  77.88228247,  78.24284811,  15.67003285,\n",
    "        31.25845963,  21.36007926,  31.60164234,  17.51450098,\n",
    "        17.92679488,  16.40542438,  19.96892459,  32.99310928,\n",
    "        28.14577056,  30.80379718,  16.40542438,  13.48998471,\n",
    "        16.40542438,  17.84050478,  13.48998471,  47.1451025 ,\n",
    "        58.08281541,  53.06435374,  52.02897659,  41.44433489,\n",
    "        36.60292926,  30.80379718,  48.98404972,  42.90189859,\n",
    "        47.56635225,  39.24128299,  54.56115914,  48.41447259,\n",
    "        48.84134317,  49.41341845,  42.76835191,  69.30854366,\n",
    "        19.33574884,  27.28640858,  22.02531454,  20.70504474,\n",
    "        26.33555201,  31.37264569,  33.93740821,  24.08222494,\n",
    "        33.34566004,  41.05118927,  32.52595611,  48.41447259,\n",
    "        16.48817545,  18.97851406,  43.84255439,  37.22278157,\n",
    "        34.77459916,  44.38465193,  47.00510227,  61.39441929,\n",
    "        57.77221268,  65.12675249,  61.07507305,  79.14790534,\n",
    "        68.42801405,  54.10993164,  64.63368105,  15.42864956,\n",
    "        16.24054679,  15.26876826,  29.68171358,  51.88189829,\n",
    "        63.32798377,  42.36896092,  48.6988448 ,  20.15170555,\n",
    "        19.24612787,  16.98905358,  18.88972581,  29.68171358,\n",
    "        28.03762169,  30.35246559,  27.20120517,  19.13885751,\n",
    "        16.12562794,  18.71277385,  16.9722369 ,  29.85984799,\n",
    "        34.29495526,  37.54716158,  47.59450219,  19.93246832,\n",
    "        30.60028577,  26.90404245,  24.66650366,  21.36007926,\n",
    "        18.5366546 ,  32.64243213,  18.5366546 ,  18.09999962,\n",
    "        22.70075058,  36.23351603,  43.97776651,  14.24983724,\n",
    "        19.15671509,  14.17291518,  35.25757392,  24.38356372,\n",
    "        26.02234705,  21.83420642,  25.81458463,  28.90864169,\n",
    "        28.58044785,  30.91715052,  23.6833544 ,  12.82391671,\n",
    "        14.63757021,  12.89709155,  17.75442285,  16.24054679,\n",
    "        17.49742615,  16.40542438,  20.42743834,  17.41217694,\n",
    "        23.58415722,  19.96892459,  20.33531923,  22.99334585,\n",
    "        28.47146626,  28.90864169,  43.43816712,  41.57579979,\n",
    "        35.01567018,  35.74387954,  48.5565546 ,  57.77221268,\n",
    "        38.98605581,  49.98882458,  28.25412762,  29.01845599,\n",
    "        23.88237331,  27.60710798,  26.54539622,  31.14448175,\n",
    "        34.17556473,  16.3228815 ,  17.0732619 ,  16.15842026,\n",
    "        18.80114574,  18.80114574,  19.42557798,  20.2434083 ,\n",
    "        20.98452475,  16.07650192,  16.07650192,  16.57113469,\n",
    "        36.11079464,  37.84783835,  27.82194848,  33.46359332,\n",
    "        29.5706502 ,  23.38638738,  36.23351603,  32.40968826,\n",
    "        18.88972581,  21.92965639,  28.68963762,  30.80379718])"
   ]
  },
  {
   "cell_type": "code",
   "execution_count": 11,
   "metadata": {},
   "outputs": [
    {
     "data": {
      "image/png": "[encoded data removed]",
      "text/plain": [
       "<Figure size 432x288 with 1 Axes>"
      ]
     },
     "metadata": {
      "needs_background": "light"
     },
     "output_type": "display_data"
    }
   ],
   "source": [
    "df = pd.read_csv(\"auto mpg.csv\")\n",
    "# Generate a scatter plot\n",
    "df.plot(kind='scatter', x='hp', y ='mpg', s=sizes)\n",
    "\n",
    "# Add the title\n",
    "plt.title('Fuel efficiency vs Horse-power')\n",
    "\n",
    "# Add the x-axis label\n",
    "plt.xlabel('Horse-power')\n",
    "\n",
    "# Add the y-axis label\n",
    "plt.ylabel('Fuel efficiency (mpg)')\n",
    "\n",
    "# Display the plot\n",
    "plt.show()"
   ]
  },
  {
   "cell_type": "markdown",
   "metadata": {},
   "source": [
    "### Exercise(4) - pandas box plots\n",
    "While pandas can plot multiple columns of data in a single figure, making plots that share the same x andy axes, there are cases where two columns cannot be plotted together because their units do not match. The`` .plot() `` method can generate subplots for each column being plotted. Here, each plot will bescaled independently.\n",
    "In this exercise your job is to generate box plots for fuel efficiency (mpg) and weight from the automobilesdata set. To do this in a single figure, you&amp;aposll specify `` subplots=True `` inside `` .plot() `` to generate two separate plots. \n",
    "All necessary modules have been imported and the automobiles dataset is available in the workspace as `` df ``.\n",
    "\n",
    "\n",
    "\n",
    "#### Instructions\n",
    "\n",
    "\n",
    "*   Make a list called `` cols `` of the column names to be plotted: `` weight`` and `` mpg ``.\n",
    "*   Call plot on `` df[cols] `` to generate a box plot of the two columns in a single figure. To do this, specify `` subplots=True ``.\n"
   ]
  },
  {
   "cell_type": "markdown",
   "metadata": {},
   "source": [
    "``` python\n",
    "# Make a list of the column names to be plotted: cols\n",
    "cols = ____\n",
    "\n",
    "# Generate the box plots\n",
    "____\n",
    "\n",
    "# Display the plot\n",
    "plt.show()```"
   ]
  },
  {
   "cell_type": "code",
   "execution_count": 12,
   "metadata": {},
   "outputs": [
    {
     "data": {
      "image/png": "[encoded data removed]",
      "text/plain": [
       "<Figure size 432x288 with 2 Axes>"
      ]
     },
     "metadata": {
      "needs_background": "light"
     },
     "output_type": "display_data"
    }
   ],
   "source": [
    "# Make a list of the column names to be plotted: cols\n",
    "cols = ['weight','mpg']\n",
    "\n",
    "# Generate the box plots\n",
    "df[cols].plot(kind = 'box',subplots = True)\n",
    "\n",
    "# Display the plot\n",
    "plt.show()"
   ]
  },
  {
   "cell_type": "markdown",
   "metadata": {},
   "source": [
    "### Exercise(5) -  pandas hist, pdf and cdf\n",
    "Pandas relies on the `` .hist() `` method to not only generate histograms, but also plots of probability density functions (PDFs) and cumulative density functions (CDFs).\n",
    "In this exercise, you will work with a dataset consisting of restaurant bills that includes the amount customers tipped. \n",
    "The original dataset is provided by the [Seaborn package](https://github.com/mwaskom/seaborn-data/blob/master/tips.csv).\n",
    "Your job is to plot a PDF and CDF for the `` fraction `` column of the tips dataset. This column contains information about what fraction of the total bill is comprised of the tip. \n",
    "Remember, when plotting the PDF, you need to specify `` normed=True `` in your call to `` .hist() ``, and when plotting the CDF, you need to specify `` cumulative=True `` in addition to `` normed=True ``.\n",
    "All necessary modules have been imported and the tips dataset is available in the workspace as `` df ``. Also, some formatting code has been written so that the plots you generate will appear on separate rows.\n",
    "\n",
    "\n",
    "\n",
    "#### Instructions\n",
    "\n",
    "\n",
    "*   Plot a PDF for the values in `` fraction `` with 30 `` bins `` between 0 and 30%. The range has been taken care of for you. `` ax=axes[0] `` means that this plot will appear in the first row. \n",
    "*   Plot a CDF for the values in `` fraction `` with 30 `` bins `` between 0 and 30%. Again, the range has been specified for you. To make the CDF appear on the second row, you need to specify `` ax=axes[1] ``.\n",
    "\n",
    "\n"
   ]
  },
  {
   "cell_type": "markdown",
   "metadata": {},
   "source": [
    "``` python\n",
    "# This formats the plots such that they appear on separate rows\n",
    "fig, axes = plt.subplots(nrows=2, ncols=1)\n",
    "\n",
    "# Plot the PDF\n",
    "df.fraction.plot(ax=axes[0], ____='hist', ____=____, ____=____, range=(0,.3))\n",
    "plt.show()\n",
    "\n",
    "# Plot the CDF\n",
    "df.fraction.plot(____=____, ____=____, ____=____, ____=____, ____=____, range=(0,.3))\n",
    "plt.show()```"
   ]
  },
  {
   "cell_type": "code",
   "execution_count": 13,
   "metadata": {},
   "outputs": [
    {
     "name": "stderr",
     "output_type": "stream",
     "text": [
      "C:\\Users\\siri\\Anaconda3\\lib\\site-packages\\matplotlib\\axes\\_axes.py:6521: MatplotlibDeprecationWarning: \n",
      "The 'normed' kwarg was deprecated in Matplotlib 2.1 and will be removed in 3.1. Use 'density' instead.\n",
      "  alternative=\"'density'\", removal=\"3.1\")\n"
     ]
    },
    {
     "data": {
      "image/png": "[encoded data removed]",
      "text/plain": [
       "<Figure size 432x288 with 2 Axes>"
      ]
     },
     "metadata": {
      "needs_background": "light"
     },
     "output_type": "display_data"
    }
   ],
   "source": [
    "df = pd.read_csv(\"tips.csv\")\n",
    "# This formats the plots such that they appear on separate rows\n",
    "fig, axes = plt.subplots(nrows=2, ncols=1)\n",
    "# Plot the PDF\n",
    "df.fraction.plot(ax=axes[0], kind='hist', bins = 30, normed=True, range=(0,.3))\n",
    "plt.show()\n",
    "\n",
    "# Plot the CDF\n",
    "df.fraction.plot(ax=axes[1], kind='hist', cumulative=True, normed=True, bins=30, range=(0,.3))\n",
    "plt.show()"
   ]
  },
  {
   "cell_type": "markdown",
   "metadata": {},
   "source": [
    "### Execise(7) - Fuel efficiency\n",
    "From the automobiles data set, which value corresponds to the median value of the `'mpg'` column? Your job is to select the `'mpg'` column and call the `.median()` method on it. The automobile DataFrame has been provided as `df`.\n",
    "\n",
    "#### Instructions\n",
    "\n",
    "##### Possible Answers\n",
    "1. 29.0\n",
    "2. 23.45\n",
    "3. 22.75\n",
    "4. 32\n",
    "\n",
    "### The Answer is(3)\n"
   ]
  },
  {
   "cell_type": "markdown",
   "metadata": {},
   "source": [
    "### Exefcise(8) - Bachelor&aposs degrees awarded to women\n",
    "In this exercise, you will investigate statistics of the percentage of Bachelor&amp;aposs degrees awarded to women from 1970 to 2011. Data is recorded every year for 17 different fields. This data set was obtained from the [Digest of Education Statistics](http://nces.ed.gov/programs/digest/2013menu_tables.asp).\n",
    "Your job is to compute the minimum and maximum values of the `` Engineering `` column and generate a line plot of the mean value of all 17 academic fields per year. To perform this step, you&amp;aposll use the `` .mean() `` method with the keyword argument `` axis=columns ``. This computes the mean _across_ all columns per row.\n",
    "The DataFrame has been pre-loaded for you as `` df `` with the index set to `` Year ``.\n",
    "\n",
    "\n",
    "\n",
    "#### Instructions\n",
    "\n",
    "\n",
    "*   Print the minimum value of the `` Engineering `` column.\n",
    "*   Print the maximum value of the `` Engineerings `` column.\n",
    "*   Construct the mean percentage per year with `` .mean(axis=scolumns) ``. Assign the result to `` mean ``.\n",
    "*   Plot the average percentage per year. Since `` Year `` is the index of `` df ``, it will appear on the x-axis of the plot. No keyword arguments are needed in your call to `` .plot() ``.\n"
   ]
  },
  {
   "cell_type": "markdown",
   "metadata": {},
   "source": [
    "``` python\n",
    "# Print the minimum value of the Engineering column\n",
    "print(____)\n",
    "\n",
    "# Print the maximum value of the Engineering column\n",
    "print(____)\n",
    "\n",
    "# Construct the mean percentage per year: mean\n",
    "mean = ____\n",
    "\n",
    "# Plot the average percentage per year\n",
    "____\n",
    "\n",
    "# Display the plot\n",
    "plt.show()```"
   ]
  },
  {
   "cell_type": "code",
   "execution_count": 14,
   "metadata": {},
   "outputs": [
    {
     "name": "stdout",
     "output_type": "stream",
     "text": [
      "0.8\n",
      "19.0\n"
     ]
    },
    {
     "data": {
      "image/png": "[encoded data removed]",
      "text/plain": [
       "<Figure size 432x288 with 1 Axes>"
      ]
     },
     "metadata": {
      "needs_background": "light"
     },
     "output_type": "display_data"
    }
   ],
   "source": [
    "df = pd.read_csv(\"percent bachelors degrees women usa.csv\")\n",
    "\n",
    "# Print the minimum value of the Engineering column\n",
    "print(df['Engineering'].min())\n",
    "\n",
    "# Print the maximum value of the Engineering column\n",
    "print(df['Engineering'].max())\n",
    "\n",
    "# Construct the mean percentage per year: mean\n",
    "mean = df.mean(axis='columns')\n",
    "\n",
    "# Plot the average percentage per year\n",
    "mean.plot()\n",
    "\n",
    "# Display the plot\n",
    "plt.show()"
   ]
  },
  {
   "cell_type": "markdown",
   "metadata": {},
   "source": [
    "### Exercise(9) - Median vs mean\n",
    "In many data sets, there can be large differences in the mean and median value due to the presence of outliers. \n",
    "In this exercise, you&amp;aposll investigate the mean, median, and max fare prices paid by passengers on the Titanic and generate a box plot of the fare prices. This data set was obtained from [Vanderbilt University](http://biostat.mc.vanderbilt.edu/wiki/pub/Main/DataSets/titanic.html). \n",
    "All necessary modules have been imported and the DataFrame is available in the workspace as `` df ``.\n",
    "\n",
    "\n",
    "\n",
    "#### Instructions\n",
    "\n",
    "\n",
    "*   Print summary statistics of the `` &amp;aposfare&amp;apos `` column of `` df `` with `` .describe() `` and `` print() ``. Note: `` df.fare `` and `` df[&amp;aposfare&amp;apos] `` are equivalent.\n",
    "*   Generate a box plot of the `` &amp;aposfare&amp;apos `` column."
   ]
  },
  {
   "cell_type": "markdown",
   "metadata": {},
   "source": [
    "``` python\n",
    "# Print summary statistics of the fare column with .describe()\n",
    "print(____)\n",
    "\n",
    "# Generate a box plot of the fare column\n",
    "____\n",
    "\n",
    "# Show the plot\n",
    "plt.show()```"
   ]
  },
  {
   "cell_type": "code",
   "execution_count": 15,
   "metadata": {},
   "outputs": [
    {
     "name": "stdout",
     "output_type": "stream",
     "text": [
      "count    1308.000000\n",
      "mean       33.295479\n",
      "std        51.758668\n",
      "min         0.000000\n",
      "25%         7.895800\n",
      "50%        14.454200\n",
      "75%        31.275000\n",
      "max       512.329200\n",
      "Name: fare, dtype: float64\n"
     ]
    },
    {
     "data": {
      "image/png": "[encoded data removed]",
      "text/plain": [
       "<Figure size 432x288 with 1 Axes>"
      ]
     },
     "metadata": {
      "needs_background": "light"
     },
     "output_type": "display_data"
    }
   ],
   "source": [
    "df =pd.read_csv(\"titanic.csv\")\n",
    "# Print summary statistics of the fare column with .describe()\n",
    "print(df['fare'].describe())\n",
    "\n",
    "# Generate a box plot of the fare column\n",
    "df.fare.plot(kind = 'box')\n",
    "\n",
    "# Show the plot\n",
    "plt.show()"
   ]
  },
  {
   "cell_type": "markdown",
   "metadata": {},
   "source": [
    "### Exercise(10) - Quantiles\n",
    "In this exercise, you&amp;aposll investigate the probabilities of life expectancy in countries around the world.This dataset contains life expectancy for persons born each year from 1800 to 2015. Since country names changeor results are not reported, not every country has values. This dataset was obtained from [Gapminder](https://docs.google.com/a/continuum.io/spreadsheets/d/1dgOdlUEq6_V55OHZCxz5BG_0uoghJTeA6f83br5peNs/pub?range=A1:D70&amp;gid=1&amp;output=html#).\n",
    "First, you will determine the number of countries reported in 2015. There are a total of 260 unique countriesin the entire dataset. Then, you will compute the 5th and 95th percentiles of life expectancy over the entire dataset.Finally, you will make a box plot of life expectancy every 50 years from 1800 to 2000. Noticethe large change in the distributions over this period.\n",
    "The dataset has been pre-loaded into a DataFrame called `` df ``.\n",
    "\n",
    "\n",
    "\n",
    "#### Instructions\n",
    "\n",
    "\n",
    "*   Print the number of countries reported in 2015. To do this, use the `` .count() `` method on the `` 2015 `` column of `` df ``.\n",
    "*   Print the 5th and 95th percentiles of `` df ``. To do this, use the `` .quantile() `` method with the list `` [0.05, 0.95] ``.\n",
    "*   Generate a box plot using the list of columns provided in `` years ``. This has already been done for you, so click on &amp;aposSubmit Answer&amp;apos to view the result!"
   ]
  },
  {
   "cell_type": "markdown",
   "metadata": {},
   "source": [
    "``` python\n",
    "# Print the number of countries reported in 2015\n",
    "print(____)\n",
    "\n",
    "# Print the 5th and 95th percentiles\n",
    "print(____)\n",
    "\n",
    "# Generate a box plot\n",
    "years = ['1800','1850','1900','1950','2000']\n",
    "df[years].plot(kind='box')\n",
    "plt.show()```"
   ]
  },
  {
   "cell_type": "code",
   "execution_count": 16,
   "metadata": {},
   "outputs": [
    {
     "name": "stdout",
     "output_type": "stream",
     "text": [
      "208\n",
      "      Unnamed: 0   1800   1801   1802  1803  1804   1805   1806   1807  1808  \\\n",
      "0.05       12.95  25.40  25.30  25.20  25.2  25.2  25.40  25.40  25.40  25.3   \n",
      "0.95      246.05  37.92  37.35  38.37  38.0  38.3  38.37  38.37  38.37  38.0   \n",
      "\n",
      "       ...      2007   2008    2009    2010   2011    2012    2013   2014  \\\n",
      "0.05   ...     53.07  53.60  54.235  54.935  55.97  56.335  56.705  56.87   \n",
      "0.95   ...     80.73  80.93  81.200  81.365  81.60  81.665  81.830  82.00   \n",
      "\n",
      "        2015     2016  \n",
      "0.05  57.855  59.2555  \n",
      "0.95  82.100  82.1650  \n",
      "\n",
      "[2 rows x 218 columns]\n"
     ]
    },
    {
     "data": {
      "image/png": "[encoded data removed]",
      "text/plain": [
       "<Figure size 432x288 with 1 Axes>"
      ]
     },
     "metadata": {
      "needs_background": "light"
     },
     "output_type": "display_data"
    }
   ],
   "source": [
    "df = pd.read_csv(\"life expectancy at birth.csv\")\n",
    "# Print the number of countries reported in 2015\n",
    "print(df['2015'].count())\n",
    "\n",
    "# Print the 5th and 95th percentiles\n",
    "print(df.quantile([0.05,0.95]))\n",
    "\n",
    "# Generate a box plot\n",
    "years = ['1800','1850','1900','1950','2000']\n",
    "df[years].plot(kind='box')\n",
    "plt.show()"
   ]
  },
  {
   "cell_type": "markdown",
   "metadata": {},
   "source": [
    "### Exercise(11) - Standard deviation of temperature\n",
    "Let&amp;aposs use the mean and standard deviation to explore differences in temperature distributionsin Pittsburgh in 2013. The data has been obtained from [Weather Underground](https://www.wunderground.com/history/).\n",
    "In this exercise, you&amp;aposre going to compare the distribution of daily temperatures in January and March.You&amp;aposll compute the mean and standard deviation for these two months.You will notice that while the mean values are similar, the standard deviations are quitedifferent, meaning that one month had a larger fluctuation in temperature than the other.\n",
    "The DataFrames have been pre-loaded for you as `` january ``, which contains the January data, and `` march ``, which contains the March data.\n",
    "\n",
    "\n",
    "\n",
    "#### Instructions\n",
    "\n",
    "\n",
    "*   Compute and print the means of the January and March data using the `` .mean() `` method.\n",
    "*   Compute and print the standard deviations of the January and March data using the `` .std() `` method."
   ]
  },
  {
   "cell_type": "markdown",
   "metadata": {},
   "source": [
    "``` python\n",
    "# Print the mean of the January and March data\n",
    "print(____, ____)\n",
    "\n",
    "# Print the standard deviation of the January and March data```\n"
   ]
  },
  {
   "cell_type": "code",
   "execution_count": 17,
   "metadata": {},
   "outputs": [
    {
     "name": "stdout",
     "output_type": "stream",
     "text": [
      "Temperature    32.354839\n",
      "dtype: float64 Temperature    33.709677\n",
      "dtype: float64\n",
      "Temperature    13.583196\n",
      "dtype: float64 Temperature    9.28509\n",
      "dtype: float64\n"
     ]
    }
   ],
   "source": [
    "january = pd.read_csv(\"January.csv\")\n",
    "march = pd.read_csv(\"march.csv\")\n",
    "# Print the mean of the January and March data\n",
    "print(january.mean(), march.mean())\n",
    "\n",
    "# Print the standard deviation of the January and March data\n",
    "print(january.std(), march.std())"
   ]
  },
  {
   "cell_type": "markdown",
   "metadata": {},
   "source": [
    "### Exercise(13) - Filtering and counting\n",
    "How many automobiles were manufactured in Asia in the automobile dataset? The DataFrame has been provided for you as `df`. Use filtering and the `.count()` member method to determine the number of rows where the `'origin'` column has the value `'Asia'`.\n",
    "\n",
    "As an example, you can extract the rows that contain `'US'` as the country of origin using `df[df['origin'] == 'US']`.\n",
    "\n",
    "#### Instructions\n",
    "\n",
    "##### Possible Answers\n",
    "1. 68\n",
    "2. 79\n",
    "3. 245\n",
    "4. 392\n",
    "\n",
    "#### The Answer is(2)"
   ]
  },
  {
   "cell_type": "markdown",
   "metadata": {},
   "source": [
    "### Exercise(14) - Separate and summarize\n",
    "Let&amp;aposs use population filtering to determine how the automobiles in the USdiffer from the global average and standard deviation. How does the distribution of fuel efficiency (MPG) for the US differ from the global average and standard deviation?\n",
    "In this exercise, you&amp;aposll compute the means and standard deviations of all columns in thefull automobile dataset. Next, you&amp;aposll compute the same quantities for just the US populationand subtract the global values from the US values.\n",
    "All necessary modules have been imported and the DataFrame has been pre-loaded as `` df ``.\n",
    "\n",
    "\n",
    "\n",
    "#### Instructions\n",
    "\n",
    "\n",
    "*   Compute the global mean and global standard deviations of `` df `` using the `` .mean() `` and `` .std() `` methods. Assign the results to `` global_mean `` and `` global_std ``.\n",
    "*   Filter the `` US `` population from the `` origin `` column and assign the result to `` us ``.\n",
    "*   Compute the US mean and US standard deviations of `` us `` using the `` .mean() `` and `` .std() `` methods. Assign the results to `` us_mean `` and `` us_std ``.\n",
    "*   Print the differences between `` us_mean `` and `` global_mean `` and `` us_std `` and `` global_std ``. This has already been done for you."
   ]
  },
  {
   "cell_type": "markdown",
   "metadata": {},
   "source": [
    "``` python\n",
    "# Compute the global mean and global standard deviation: global_mean, global_std\n",
    "global_mean = ____\n",
    "global_std = ____\n",
    "\n",
    "# Filter the US population from the origin column: us\n",
    "us = ____\n",
    "\n",
    "# Compute the US mean and US standard deviation: us_mean, us_std\n",
    "us_mean = ____\n",
    "us_std = ____\n",
    "\n",
    "# Print the differences\n",
    "print(us_mean - global_mean)\n",
    "print(us_std - global_std)```"
   ]
  },
  {
   "cell_type": "code",
   "execution_count": 18,
   "metadata": {},
   "outputs": [
    {
     "name": "stdout",
     "output_type": "stream",
     "text": [
      "mpg        -3.412449\n",
      "cyl         0.805612\n",
      "displ      53.100255\n",
      "hp         14.579592\n",
      "weight    394.905612\n",
      "accel      -0.551122\n",
      "yr         -0.387755\n",
      "dtype: float64\n",
      "mpg       -1.364623\n",
      "cyl       -0.049788\n",
      "displ     -6.267657\n",
      "hp         1.406630\n",
      "weight   -54.055870\n",
      "accel     -0.022844\n",
      "yr        -0.023369\n",
      "dtype: float64\n"
     ]
    }
   ],
   "source": [
    "df = pd.read_csv(\"auto mpg.csv\")\n",
    "# Compute the global mean and global standard deviation: global_mean, global_std\n",
    "global_mean = df.mean()\n",
    "global_std =  df.std()\n",
    "\n",
    "# Filter the US population from the origin column: us\n",
    "us = df[df['origin']== 'US']\n",
    "\n",
    "# Compute the US mean and US standard deviation: us_mean, us_std\n",
    "us_mean = us.mean()\n",
    "us_std = us.std()\n",
    "\n",
    "# Print the differences\n",
    "print(us_mean - global_mean)\n",
    "print(us_std - global_std)"
   ]
  },
  {
   "cell_type": "markdown",
   "metadata": {},
   "source": [
    "### Exercise(15) - Separate and plot\n",
    "Population filtering can be used alongside plotting to quickly determine differences in distributionsbetween the sub-populations. You&amp;aposll work with the Titanic dataset.\n",
    "There were three passenger classes on the Titanic, and passengers in each class paid a different fare price.In this exercise, you&amp;aposll investigate the differences in these fare prices.\n",
    "Your job is to use Boolean filtering and generate box plots of the fare prices for each of the three passenger classes. The fare prices are contained in the `` fare `` column and passenger class information is contained in the `` pclass `` column.\n",
    "When you&amp;aposre done, notice the portions of the box plots that differ and those that are similar.\n",
    "The DataFrame has been pre-loaded for you as `` titanic ``.\n",
    "\n",
    "\n",
    "\n",
    "#### Instructions\n",
    "\n",
    "\n",
    "*   Inside `` plt.subplots() ``, specify the `` nrows `` and `` ncols `` parameters so that there are 3 rows and 1 column.\n",
    "*   Filter the rows where the `` pclass `` column has the values `` 1 `` and generate a box plot of the `` fare `` column.\n",
    "*   Filter the rows where the `` pclass `` column has the values `` 2 `` and generate a box plot of the `` fare `` column.\n",
    "*   Filter the rows where the `` pclass `` column has the values `` 3 `` and generate a box plot of the `` fare `` column."
   ]
  },
  {
   "cell_type": "markdown",
   "metadata": {},
   "source": [
    "``` python\n",
    "# Display the box plots on 3 separate rows and 1 column\n",
    "fig, axes = plt.subplots(____=____, ____=____)\n",
    "\n",
    "# Generate a box plot of the fare prices for the First passenger class\n",
    "titanic.loc[titanic['pclass'] == ____].plot(ax=axes[0], ____='fare', ____='box')\n",
    "\n",
    "# Generate a box plot of the fare prices for the Second passenger class\n",
    "titanic.loc[____ == ____].plot(ax=axes[1], ____='fare', ____='box')\n",
    "\n",
    "# Generate a box plot of the fare prices for the Third passenger class\n",
    "titanic.loc[____ == ____].plot(ax=axes[2], ____='fare', ____='box')\n",
    "\n",
    "# Display the plot\n",
    "plt.show()```"
   ]
  },
  {
   "cell_type": "code",
   "execution_count": 19,
   "metadata": {},
   "outputs": [
    {
     "data": {
      "image/png": "[encoded data removed]",
      "text/plain": [
       "<Figure size 432x288 with 3 Axes>"
      ]
     },
     "metadata": {
      "needs_background": "light"
     },
     "output_type": "display_data"
    }
   ],
   "source": [
    "import pandas as pd\n",
    "import matplotlib.pyplot as plt\n",
    "titanic = pd.read_csv(\"titanic.csv\")\n",
    "\n",
    "# Display the box plots on 3 separate rows and 1 column\n",
    "fig, axes = plt.subplots(nrows=3, ncols=1)\n",
    "\n",
    "# Generate a box plot of the fare prices for the First passenger class\n",
    "titanic.loc[titanic['pclass'] == 1].plot(ax=axes[0], y='fare', kind='box')\n",
    "\n",
    "# Generate a box plot of the fare prices for the Second passenger class\n",
    "titanic.loc[titanic['pclass'] == 2].plot(ax=axes[1], y='fare', kind='box')\n",
    "\n",
    "# Generate a box plot of the fare prices for the Third passenger class\n",
    "titanic.loc[titanic['pclass'] == 3].plot(ax=axes[2], y='fare', kind='box')\n",
    "\n",
    "# Display the plot\n",
    "plt.show()"
   ]
  },
  {
   "cell_type": "markdown",
   "metadata": {},
   "source": [
    "## Chapter(3) - Time series in pandas\n",
    "\n",
    "### Exercise(2) - Reading and slicing times\n",
    "For this exercise, we have read in the same data file using three different approaches:\n",
    "\n",
    "df1 = pd.read_csv(filename)\n",
    "\n",
    "df2 = pd.read_csv(filename, parse_dates=['Date'])\n",
    "\n",
    "df3 = pd.read_csv(filename, index_col='Date', parse_dates=True)\n",
    "\n",
    "Use the .head() and .info() methods in the IPython Shell to inspect the DataFrames. Then, try to index each DataFrame with a datetime string. Which of the resulting DataFrames allows you to easily index and slice data by dates using, for example, df1.loc['2010-Aug-01']?\n",
    "\n",
    "#### Instructions\n",
    "\n",
    "Possible Answers\n",
    "1. df1.\n",
    "2. df1 and df2.\n",
    "3. df2.\n",
    "4. df2 and df3.\n",
    "5. df3.\n",
    "\n",
    "### The Answer is(5)\n"
   ]
  },
  {
   "cell_type": "markdown",
   "metadata": {},
   "source": [
    "### Exercise(3) - Creating and using a DatetimeIndex\n",
    "The pandas Index is a powerful way to handle time series data, so it is valuable to know how to build one yourself. Pandas provides the `` pd.to_datetime() `` function for just this task. For example, if passed the list of strings `` [2015-01-01 091234,2015-01-01 091234] `` and a `` format `` specification variable, such as `` format=%Y-%m-%d %H%M%S ``, pandas will parse the string into the proper datetime elements and build the datetime objects. \n",
    "In this exercise, a list of temperature data and a list of date strings has been pre-loaded for you as `` temperature_list `` and `` date_list `` respectively. Your job is to use the `` .to_datetime() `` method to build a DatetimeIndex out of the list of date strings, and to then use it along with the list of temperature data to build a pandas Series.\n",
    "\n",
    "\n",
    "\n",
    "#### Instructions\n",
    "\n",
    "\n",
    "*   Prepare a format string, `` time_format ``, using `` %Y-%m-%d %H:%M`` as the desired format.\n",
    "*   Convert `` date_list `` into a `` datetime `` object by using the `` pd.to_datetime() `` function. Specify the format string you defined above and assign the result to `` my_datetimes ``.\n",
    "*   Construct a pandas Series called `` time_series `` using `` pd.Series() `` with `` temperature_list `` and `` my_datetimes ``. Set the `` index `` of the Series to be `` my_datetimes ``.\n"
   ]
  },
  {
   "cell_type": "markdown",
   "metadata": {},
   "source": [
    "``` python\n",
    "# Prepare a format string: time_format\n",
    "time_format = ____\n",
    "\n",
    "# Convert date_list into a datetime object: my_datetimes\n",
    "my_datetimes = ____(____, ____=____)  \n",
    "\n",
    "# Construct a pandas Series using temperature_list and my_datetimes: time_series\n",
    "time_series = ____(temperature_list, ____=my_datetimes)```"
   ]
  },
  {
   "cell_type": "code",
   "execution_count": 20,
   "metadata": {},
   "outputs": [
    {
     "name": "stdout",
     "output_type": "stream",
     "text": [
      "2010-01-01 00:00:00    46.2\n",
      "2010-01-01 01:00:00    44.6\n",
      "2010-01-01 02:00:00    44.1\n",
      "2010-01-01 03:00:00    43.8\n",
      "2010-01-01 04:00:00    43.5\n",
      "2010-01-01 05:00:00    43.0\n",
      "2010-01-01 06:00:00    43.1\n",
      "2010-01-01 07:00:00    42.3\n",
      "2010-01-01 08:00:00    42.5\n",
      "2010-01-01 09:00:00    45.9\n",
      "2010-01-01 10:00:00    49.4\n",
      "2010-01-01 11:00:00    52.4\n",
      "2010-01-01 12:00:00    54.9\n",
      "2010-01-01 13:00:00    57.1\n",
      "2010-01-01 14:00:00    58.4\n",
      "2010-01-01 15:00:00    59.1\n",
      "2010-01-01 16:00:00    59.1\n",
      "2010-01-01 17:00:00    58.0\n",
      "2010-01-01 18:00:00    54.5\n",
      "2010-01-01 19:00:00    51.3\n",
      "2010-01-01 20:00:00    49.2\n",
      "2010-01-01 21:00:00    48.1\n",
      "2010-01-01 22:00:00    47.2\n",
      "2010-01-01 23:00:00    46.4\n",
      "2010-01-02 00:00:00    46.5\n",
      "2010-01-02 01:00:00    44.9\n",
      "2010-01-02 02:00:00    44.4\n",
      "2010-01-02 03:00:00    44.1\n",
      "2010-01-02 04:00:00    43.9\n",
      "2010-01-02 05:00:00    43.3\n",
      "                       ... \n",
      "2010-12-30 18:00:00    54.1\n",
      "2010-12-30 19:00:00    50.9\n",
      "2010-12-30 20:00:00    49.0\n",
      "2010-12-30 21:00:00    47.9\n",
      "2010-12-30 22:00:00    46.9\n",
      "2010-12-30 23:00:00    46.1\n",
      "2010-12-31 00:00:00    46.1\n",
      "2010-12-31 01:00:00    44.5\n",
      "2010-12-31 02:00:00    44.1\n",
      "2010-12-31 03:00:00    43.7\n",
      "2010-12-31 04:00:00    43.5\n",
      "2010-12-31 05:00:00    42.9\n",
      "2010-12-31 06:00:00    43.0\n",
      "2010-12-31 07:00:00    42.2\n",
      "2010-12-31 08:00:00    42.5\n",
      "2010-12-31 09:00:00    46.0\n",
      "2010-12-31 10:00:00    49.4\n",
      "2010-12-31 11:00:00    52.4\n",
      "2010-12-31 12:00:00    54.7\n",
      "2010-12-31 13:00:00    56.9\n",
      "2010-12-31 14:00:00    58.2\n",
      "2010-12-31 15:00:00    58.8\n",
      "2010-12-31 16:00:00    58.8\n",
      "2010-12-31 17:00:00    57.6\n",
      "2010-12-31 18:00:00    54.3\n",
      "2010-12-31 19:00:00    51.1\n",
      "2010-12-31 20:00:00    49.0\n",
      "2010-12-31 21:00:00    47.9\n",
      "2010-12-31 22:00:00    46.9\n",
      "2010-12-31 23:00:00    46.2\n",
      "Length: 8759, dtype: float64\n"
     ]
    }
   ],
   "source": [
    "df = pd.read_csv(\"weather data austin 2010.csv\")\n",
    "date_list = list( df[\"Date\"] )\n",
    "temperature_list = list(df[\"Temperature\"])\n",
    "\n",
    "# Prepare a format string: time_format\n",
    "time_format = '%Y-%m-%d %H:%M'\n",
    "\n",
    "# Convert date_list into a datetime object: my_datetimes\n",
    "my_datetimes = pd.to_datetime(date_list, format=time_format)  \n",
    "\n",
    "# Construct a pandas Series using temperature_list and my_datetimes: time_series\n",
    "time_series = pd.Series(temperature_list, index=my_datetimes)\n",
    "print(time_series)"
   ]
  },
  {
   "cell_type": "markdown",
   "metadata": {},
   "source": [
    "### Exercise(4) - Partial string indexing and slicing\n",
    "Pandas time series support \"partial string\" indexing. What this means is that even when passed only a portion of the datetime, such as the date but not the time, pandas is remarkably good at doing what one would expect. Pandas datetime indexing also supports a wide variety of commonly used datetime string formats, even when mixed. \n",
    "In this exercise, a time series that contains hourly weather data has been pre-loaded for you. This data was read using the `` parse_dates=True `` option in `` read_csv() `` with `` index_col=\"Dates\" `` so that the Index is indeed a `` DatetimeIndex ``. \n",
    "All data from the `` Temperature `` column has been extracted into the variable `` ts0 ``. Your job is to use a variety of natural date strings to extract one or more values from `` ts0 ``.\n",
    "After you are done, you will have three new variables - `` ts1 ``, `` ts2 ``, and `` ts3 ``. You can slice these further to extract only the first and last entries of each. Try doing this after your submission for more practice.\n",
    "\n",
    "\n",
    "\n",
    "#### Instructions\n",
    "\n",
    "\n",
    "*   Extract data from `` ts0 `` for a single hour - the hour from 9pm to 10pm on `` 2010-10-11 ``. Assign it to `` ts1 ``.\n",
    "*   Extract data from `` ts0 `` for a single day - `` July 4th, 2010 `` - and assign it to `` ts2 ``.\n",
    "*   Extract data from `` ts0 `` for the second half of December 2010 - `` 12/15/2010 `` to `` 12/31/2010 ``. Assign it to `` ts3 ``.\n"
   ]
  },
  {
   "cell_type": "markdown",
   "metadata": {},
   "source": [
    "``` python\n",
    "# Extract the hour from 9pm to 10pm on '2010-10-11': ts1\n",
    "ts1 = ts0.loc['2010-10-11 21:00:00':'____']\n",
    "\n",
    "# Extract '2010-07-04' from ts0: ts2\n",
    "ts2 = ____\n",
    "\n",
    "# Extract data from '2010-12-15' to '2010-12-31': ts3\n",
    "ts3 = ____```\n"
   ]
  },
  {
   "cell_type": "code",
   "execution_count": 21,
   "metadata": {},
   "outputs": [],
   "source": [
    "import pandas as pd\n",
    "import numpy as np\n",
    "data_frame = pd.read_csv(\"weather data austin 2010.csv\",parse_dates= ['Date'])\n",
    "ts0 = data_frame[[\"Date\",\"Temperature\"]]\n",
    "ts0 = ts0.set_index('Date')\n",
    "\n",
    "# Extract the hour from 9pm to 10pm on '2010-10-11': ts1\n",
    "ts1 = ts0.loc['2010-10-11 21:00:00':'2010-10-11 22:00:00']\n",
    "\n",
    "# Extract '2010-07-04' from ts0: ts2\n",
    "ts2 = ts0.loc['2010-07-04']\n",
    "\n",
    "# Extract data from '2010-12-15' to '2010-12-31': ts3\n",
    "ts3 = ts0.loc['2010-12-15' : '2010-12-31']\n",
    "\n"
   ]
  },
  {
   "cell_type": "markdown",
   "metadata": {},
   "source": [
    "### Exercise(5) - Reindexing the Index\n",
    "Reindexing is useful in preparation for adding or otherwise combining two time series data sets. To reindex the data, we provide a new index and ask pandas to try and match the old data to the new index. If data is unavailable for one of the new index dates or times, you must tell pandas how to fill it in. Otherwise, pandas will fill with `` NaN `` by default. \n",
    "In this exercise, two time series data sets containing daily data have been pre-loaded for you, each indexed by dates. The first, `` ts1 ``, includes weekends, but the second, `` ts2 ``, does not. The goal is to combine the two data sets in a sensible way. Your job is to reindex the second data set so that it has weekends as well, and then add it to the first. When you are done, it would be informative to inspect your results.\n",
    "\n",
    "\n",
    "\n",
    "#### Instructions\n",
    "\n",
    "\n",
    "*   Create a new time series `` ts3 `` by reindexing `` ts2 `` with the index of `` ts1 ``. To do this, call `` .reindex() `` on `` ts2 `` and pass in the index of `` ts1 `` (`` ts1.index ``).\n",
    "*   Create another new time series, `` ts4 ``, by calling the same `` .reindex() `` as above, but also specifiying a fill method, using the keyword argument `` method=\"ffill\" `` to forward-fill values.\n",
    "*   Add `` ts1 + ts2 ``. Assign the result to `` sum12 ``.\n",
    "*   Add `` ts1 + ts3 ``. Assign the result to `` sum13 ``.\n",
    "*   Add `` ts1 + ts4 ``, Assign the result to `` sum14 ``."
   ]
  },
  {
   "cell_type": "markdown",
   "metadata": {},
   "source": [
    "``` python\n",
    "# Reindex without fill method: ts3\n",
    "ts3 = ____\n",
    "\n",
    "# Reindex with fill method, using forward fill: ts4\n",
    "ts4 = ____\n",
    "\n",
    "# Combine ts1 + ts2: sum12\n",
    "sum12 = ____\n",
    "\n",
    "# Combine ts1 + ts3: sum13\n",
    "sum13 = ____\n",
    "\n",
    "# Combine ts1 + ts4: sum14\n",
    "sum14 = ____```"
   ]
  },
  {
   "cell_type": "code",
   "execution_count": 22,
   "metadata": {
    "scrolled": true
   },
   "outputs": [],
   "source": [
    "ts1 = pd.read_csv(\"series_dataset.csv\",index_col='Date')\n",
    "ts2 = ts1[:'2016-07-15']\n",
    "\n",
    "\n",
    "\n",
    "# Reindex without fill method: ts3\n",
    "ts3 = ts2.reindex(ts1.index)\n",
    "\n",
    "# Reindex with fill method, using forward fill: ts4\n",
    "ts4 = ts2.reindex(ts1.index,method ='ffill')\n",
    "\n",
    "# Combine ts1 + ts2: sum12\n",
    "sum12 = ts1+ts2\n",
    "\n",
    "# Combine ts1 + ts3: sum13\n",
    "sum13 = ts1+ts3\n",
    "\n",
    "# Combine ts1 + ts4: sum14\n",
    "sum14 = ts1+ts4\n"
   ]
  },
  {
   "cell_type": "markdown",
   "metadata": {},
   "source": [
    "### Exercise(7) - Resampling and frequency\n",
    "Pandas provides methods for resampling time series data. When downsampling or upsampling, the syntax is similar, but the methods called are different. Both use the concept of &amp;aposmethod chaining&amp;apos - `` df.method1().method2().method3() `` - to direct the output from one method call to the input of the next, and so on, as a sequence of operations, one feeding into the next. \n",
    "For example, if you have hourly data, and just need daily data, pandas will not guess how to throw out the 23 of 24 points. You must specify this in the method. One approach, for instance, could be to take the mean, as in `` df.resample(D).mean() ``. \n",
    "In this exercise, a data set containing hourly temperature data has been pre-loaded for you. Your job is to resample the data using a variety of aggregation methods to answer a few questions.\n",
    "\n",
    "\n",
    "\n",
    "#### Instructions\n",
    "\n",
    "\n",
    "*   Downsample the `` Temperature `` column of `` df `` to 6 hour data using `` .resample(6h) `` and `` .mean() ``. Assign the result to `` df1 ``.\n",
    "*   Downsample the `` Temperatures `` column of `` df `` to daily data using `` .resample(D) `` and then count the number of data points in each day with `` .count() ``. Assign the result `` df2 ``.\n"
   ]
  },
  {
   "cell_type": "markdown",
   "metadata": {},
   "source": [
    "``` python\n",
    "# Downsample to 6 hour data and aggregate by mean: df1\n",
    "df1 = ____\n",
    "\n",
    "# Downsample to daily data and count the number of data points: df2\n",
    "df2 = ____```"
   ]
  },
  {
   "cell_type": "code",
   "execution_count": 23,
   "metadata": {},
   "outputs": [
    {
     "name": "stdout",
     "output_type": "stream",
     "text": [
      "                     Temperature  DewPoint  Pressure\n",
      "Date                                                \n",
      "2010-01-01 00:00:00         46.2      37.5       1.0\n",
      "2010-01-01 01:00:00         44.6      37.1       1.0\n",
      "2010-01-01 02:00:00         44.1      36.9       1.0\n",
      "2010-01-01 03:00:00         43.8      36.9       1.0\n",
      "2010-01-01 04:00:00         43.5      36.8       1.0\n",
      "2010-01-01 05:00:00         43.0      36.5       1.0\n",
      "2010-01-01 06:00:00         43.1      36.3       1.0\n",
      "2010-01-01 07:00:00         42.3      35.9       1.0\n",
      "2010-01-01 08:00:00         42.5      36.2       1.0\n",
      "2010-01-01 09:00:00         45.9      37.8       1.0\n",
      "2010-01-01 10:00:00         49.4      38.3       1.0\n",
      "2010-01-01 11:00:00         52.4      38.3       1.0\n",
      "2010-01-01 12:00:00         54.9      38.2       1.0\n",
      "2010-01-01 13:00:00         57.1      38.5       1.0\n",
      "2010-01-01 14:00:00         58.4      38.2       1.0\n",
      "2010-01-01 15:00:00         59.1      38.3       1.0\n",
      "2010-01-01 16:00:00         59.1      38.3       1.0\n",
      "2010-01-01 17:00:00         58.0      38.7       1.0\n",
      "2010-01-01 18:00:00         54.5      38.2       1.0\n",
      "2010-01-01 19:00:00         51.3      38.5       1.0\n",
      "2010-01-01 20:00:00         49.2      38.4       1.0\n",
      "2010-01-01 21:00:00         48.1      38.5       1.0\n",
      "2010-01-01 22:00:00         47.2      38.5       1.0\n",
      "2010-01-01 23:00:00         46.4      38.4       1.0\n",
      "2010-01-02 00:00:00         46.5      38.2       1.0\n",
      "2010-01-02 01:00:00         44.9      37.8       1.0\n",
      "2010-01-02 02:00:00         44.4      37.7       1.0\n",
      "2010-01-02 03:00:00         44.1      37.6       1.0\n",
      "2010-01-02 04:00:00         43.9      37.6       1.0\n",
      "2010-01-02 05:00:00         43.3      37.3       1.0\n",
      "...                          ...       ...       ...\n",
      "2010-12-30 18:00:00         54.1      37.9       1.0\n",
      "2010-12-30 19:00:00         50.9      38.2       1.0\n",
      "2010-12-30 20:00:00         49.0      38.0       1.0\n",
      "2010-12-30 21:00:00         47.9      38.1       1.0\n",
      "2010-12-30 22:00:00         46.9      38.0       1.0\n",
      "2010-12-30 23:00:00         46.1      37.9       1.0\n",
      "2010-12-31 00:00:00         46.1      37.5       1.0\n",
      "2010-12-31 01:00:00         44.5      37.2       1.0\n",
      "2010-12-31 02:00:00         44.1      37.0       1.0\n",
      "2010-12-31 03:00:00         43.7      36.9       1.0\n",
      "2010-12-31 04:00:00         43.5      36.8       1.0\n",
      "2010-12-31 05:00:00         42.9      36.5       1.0\n",
      "2010-12-31 06:00:00         43.0      36.1       1.0\n",
      "2010-12-31 07:00:00         42.2      35.7       1.0\n",
      "2010-12-31 08:00:00         42.5      36.1       1.0\n",
      "2010-12-31 09:00:00         46.0      37.7       1.0\n",
      "2010-12-31 10:00:00         49.4      38.0       1.0\n",
      "2010-12-31 11:00:00         52.4      38.0       1.0\n",
      "2010-12-31 12:00:00         54.7      37.9       1.0\n",
      "2010-12-31 13:00:00         56.9      38.2       1.0\n",
      "2010-12-31 14:00:00         58.2      37.9       1.0\n",
      "2010-12-31 15:00:00         58.8      37.9       1.0\n",
      "2010-12-31 16:00:00         58.8      37.9       1.0\n",
      "2010-12-31 17:00:00         57.6      38.2       1.0\n",
      "2010-12-31 18:00:00         54.3      37.8       1.0\n",
      "2010-12-31 19:00:00         51.1      38.1       1.0\n",
      "2010-12-31 20:00:00         49.0      37.9       1.0\n",
      "2010-12-31 21:00:00         47.9      37.9       1.0\n",
      "2010-12-31 22:00:00         46.9      37.9       1.0\n",
      "2010-12-31 23:00:00         46.2      37.7       1.0\n",
      "\n",
      "[8759 rows x 3 columns]\n"
     ]
    }
   ],
   "source": [
    "df = pd.read_csv(\"weather data austin 2010.csv\",index_col='Date',parse_dates=['Date'])\n",
    "# Downsample to 6 hour data and aggregate by mean: df1\n",
    "df1 = df['Temperature'].resample('6h').mean()\n",
    "\n",
    "# Downsample to daily data and count the number of data points: df2\n",
    "df2 = df['Temperature'].resample('D').count()\n",
    "print(df)"
   ]
  },
  {
   "cell_type": "markdown",
   "metadata": {},
   "source": [
    "### Exercise(8) - Separating and resampling\n",
    "With pandas, you can resample in different ways on different subsets of your data. For example, resampling different months of data with different aggregations. In this exercise, the data set containing hourly temperature data from the last exercise has been pre-loaded. \n",
    "Your job is to resample the data using a variety of aggregation methods. The DataFrame is available in the workspace as `` df ``. You will be working with the `` &amp;aposTemperature&amp;apos `` column.\n",
    "\n",
    "\n",
    "\n",
    "#### Instructions\n",
    "\n",
    "\n",
    "*   Use partial string indexing to extract temperature data for August 2010 into `` august ``.\n",
    "*   Use the temperature data for August and downsample to find the daily maximum temperatures. Store the result in `` august_highs ``.\n",
    "*   Use partial string indexing to extract temperature data for February 2010 into `` february ``.\n",
    "*   Use the temperature data for February and downsample to find the daily minimum temperatures. Store the result in `` february_lows ``.\n"
   ]
  },
  {
   "cell_type": "markdown",
   "metadata": {},
   "source": [
    "``` python\n",
    "# Extract temperature data for August: august\n",
    "august = ____\n",
    "\n",
    "# Downsample to obtain only the daily highest temperatures in August: august_highs\n",
    "august_highs = ____\n",
    "\n",
    "# Extract temperature data for February: february\n",
    "february = ____\n",
    "\n",
    "# Downsample to obtain the daily lowest temperatures in February: february_lows\n",
    "february_lows = ____```"
   ]
  },
  {
   "cell_type": "code",
   "execution_count": 24,
   "metadata": {},
   "outputs": [],
   "source": [
    "# Extract temperature data for August: august\n",
    "august = df['Temperature']['2010-August']\n",
    "\n",
    "# Downsample to obtain only the daily highest temperatures in August: august_highs\n",
    "august_highs = august.resample('D').max()\n",
    "\n",
    "# Extract temperature data for February: february\n",
    "february = df['Temperature']['2010-February']\n",
    "\n",
    "# Downsample to obtain the daily lowest temperatures in February: february_lows\n",
    "february_lows = february.resample('D').min()\n"
   ]
  },
  {
   "cell_type": "markdown",
   "metadata": {},
   "source": [
    "### Exercise(9) - Rolling mean and frequency\n",
    "In this exercise, some hourly weather data is pre-loaded for you. You will continue to practice resampling, this time using rolling means.\n",
    "Rolling means (or moving averages) are generally used to smooth out short-term fluctuations in time series data and highlight long-term trends. You can read more about them [here](https://en.wikipedia.org/wiki/Moving_average). \n",
    "To use the `` .rolling() `` method, you must always use method chaining, first calling `` .rolling() `` and then chaining an aggregation method after it. For example, with a Series `` hourly_data ``, `` hourly_data.rolling(window=24).mean() `` would compute new values for each hourly point, based on a 24-hour window stretching out __behind__ each point. The frequency of the output data is the same: it is still hourly. Such an operation is useful for smoothing time series data. \n",
    "Your job is to resample the data using the combination of `` .rolling() `` and `` .mean() ``. You will work with the same DataFrame `` df `` from the previous exercise.\n",
    "\n",
    "\n",
    "\n",
    "#### Instructions\n",
    "\n",
    "\n",
    "*   Use partial string indexing to extract temperature data from August 1 2010 to August 15 2010. Assign to `` unsmoothed ``.\n",
    "*   Use `` .rolling() `` with a 24 hour window to smooth the mean temperature data. Assign the result to `` smoothed ``.\n",
    "*   Use a dictionary to create a new DataFrame `` august `` with the time series `` smoothed `` and `` unsmoothed `` as columns.\n",
    "*   Plot both the columns of `` august `` as line plots using the `` .plot() `` method."
   ]
  },
  {
   "cell_type": "markdown",
   "metadata": {},
   "source": [
    "``` python\n",
    "# Extract data from 2010-Aug-01 to 2010-Aug-15: unsmoothed\n",
    "unsmoothed = df['Temperature'][____:____]\n",
    "\n",
    "# Apply a rolling mean with a 24 hour window: smoothed\n",
    "smoothed = ____\n",
    "\n",
    "# Create a new DataFrame with columns smoothed and unsmoothed: august\n",
    "august = pd.DataFrame({'smoothed':____, 'unsmoothed':____})\n",
    "\n",
    "# Plot both smoothed and unsmoothed data using august.plot().\n",
    "____\n",
    "plt.show()```"
   ]
  },
  {
   "cell_type": "code",
   "execution_count": 25,
   "metadata": {},
   "outputs": [
    {
     "data": {
      "image/png": "[encoded data removed]",
      "text/plain": [
       "<Figure size 432x288 with 1 Axes>"
      ]
     },
     "metadata": {
      "needs_background": "light"
     },
     "output_type": "display_data"
    }
   ],
   "source": [
    "# Extract data from 2010-Aug-01 to 2010-Aug-15: unsmoothed\n",
    "unsmoothed = df['Temperature']['2010-Aug-01':'2010-Aug-15']\n",
    "\n",
    "# Apply a rolling mean with a 24 hour window: smoothed\n",
    "smoothed = unsmoothed.rolling(window=24).mean()\n",
    "\n",
    "# Create a new DataFrame with columns smoothed and unsmoothed: august\n",
    "august = pd.DataFrame({'smoothed':smoothed, 'unsmoothed':unsmoothed})\n",
    "\n",
    "# Plot both smoothed and unsmoothed data using august.plot().\n",
    "august.plot()\n",
    "plt.show()"
   ]
  },
  {
   "cell_type": "markdown",
   "metadata": {},
   "source": [
    "### Exercise(10) - Resample and roll with it\n",
    "As of pandas version 0.18.0, the interface for applying rolling transformations to time series has become more consistent and flexible, and feels somewhat like a `` groupby `` (If you do not know what a `` groupby `` is, don&amp;apost worry, you will learn about it in the next course!). \n",
    "You can now flexibly chain together resampling and rolling operations. In this exercise, the same weather data from the previous exercises has been pre-loaded for you. Your job is to extract one month of data, resample to find the daily high temperatures, and then use a rolling and aggregation operation to smooth the data.\n",
    "\n",
    "\n",
    "\n",
    "#### Instructions\n",
    "\n",
    "\n",
    "*   Use partial string indexing to extract August 2010 temperature data, and assign to `` august ``.\n",
    "*   Resample to daily frequency, saving the maximum daily temperatures, and assign the result to `` daily_highs ``.\n",
    "*   As part of one long method chain, repeat the above resampling (or you can re-use `` daily_highs ``) and then combine it with `` .rolling() `` to apply a 7 day `` .mean() `` (with `` window=7 `` inside `` .rolling() ``) so as to smooth the daily highs. Assign the result to `` daily_highs_smoothed `` and print the result.\n",
    "\n",
    "\n"
   ]
  },
  {
   "cell_type": "markdown",
   "metadata": {},
   "source": [
    "``` python\n",
    "# Extract the August 2010 data: august\n",
    "august = df['Temperature'][____]\n",
    "\n",
    "# Resample to daily data, aggregating by max: daily_highs\n",
    "daily_highs = ____\n",
    "\n",
    "# Use a rolling 7-day window with method chaining to smooth the daily high temperatures in August\n",
    "daily_highs_smoothed = ____\n",
    "print(____)```"
   ]
  },
  {
   "cell_type": "code",
   "execution_count": 26,
   "metadata": {},
   "outputs": [
    {
     "name": "stdout",
     "output_type": "stream",
     "text": [
      "Date\n",
      "2010-08-01          NaN\n",
      "2010-08-02          NaN\n",
      "2010-08-03          NaN\n",
      "2010-08-04          NaN\n",
      "2010-08-05          NaN\n",
      "2010-08-06          NaN\n",
      "2010-08-07    95.114286\n",
      "2010-08-08    95.142857\n",
      "2010-08-09    95.171429\n",
      "2010-08-10    95.171429\n",
      "2010-08-11    95.157143\n",
      "2010-08-12    95.128571\n",
      "2010-08-13    95.100000\n",
      "2010-08-14    95.042857\n",
      "2010-08-15    94.971429\n",
      "2010-08-16    94.900000\n",
      "2010-08-17    94.857143\n",
      "2010-08-18    94.828571\n",
      "2010-08-19    94.814286\n",
      "2010-08-20    94.785714\n",
      "2010-08-21    94.757143\n",
      "2010-08-22    94.742857\n",
      "2010-08-23    94.714286\n",
      "2010-08-24    94.642857\n",
      "2010-08-25    94.542857\n",
      "2010-08-26    94.428571\n",
      "2010-08-27    94.271429\n",
      "2010-08-28    94.100000\n",
      "2010-08-29    93.914286\n",
      "2010-08-30    93.742857\n",
      "2010-08-31    93.571429\n",
      "Freq: D, Name: Temperature, dtype: float64\n"
     ]
    }
   ],
   "source": [
    "# Extract the August 2010 data: august\n",
    "august = df['Temperature']['2010-August']\n",
    "\n",
    "# Resample to daily data, aggregating by max: daily_highs\n",
    "daily_highs = august.resample('D').max()\n",
    "\n",
    "# Use a rolling 7-day window with method chaining to smooth the daily high temperatures in August\n",
    "daily_highs_smoothed =  daily_highs.rolling(window =7).mean()\n",
    "print(daily_highs_smoothed)"
   ]
  },
  {
   "cell_type": "markdown",
   "metadata": {},
   "source": [
    "### Exercise(12) - Method chaining and filtering\n",
    "We&amp;aposve seen that pandas supports method chaining. This technique can be very powerful when cleaning and filtering data. \n",
    "In this exercise, a DataFrame containing flight departure data for a single airline and a single airport for the month of July 2015 has been pre-loaded. Your job is to use `` .str() `` filtering and method chaining to generate summary statistics on flight delays each day to Dallas.\n",
    "\n",
    "\n",
    "\n",
    "#### Instructions\n",
    "\n",
    "\n",
    "*   Use `` .str.strip() `` to strip extra whitespace from `` df.columns ``. Assign the result back to `` df.columns ``.\n",
    "*   In the `` &amp;aposDestination Airport&amp;apos `` column, extract all entries where Dallas (`` &amp;aposDAL&amp;apos ``) is the destination airport. Use `` .str.contains(&amp;aposDAL&amp;apos) `` for this and store the result in `` dallas ``.\n",
    "*   Resample `` dallas `` such that you get the total number of departures each day. Store the result in `` daily_departures ``. \n",
    "*   Generate summary statistics for daily Dallas departures using `` .describe() ``. Store the result in `` stats ``.\n"
   ]
  },
  {
   "cell_type": "markdown",
   "metadata": {},
   "source": [
    "``` python\n",
    "# Strip extra whitespace from the column names: df.columns\n",
    "df.columns = ____\n",
    "\n",
    "# Extract data for which the destination airport is Dallas: dallas\n",
    "dallas = df['Destination Airport'].____.____(____)\n",
    "\n",
    "# Compute the total number of Dallas departures each day: daily_departures\n",
    "daily_departures = ____\n",
    "\n",
    "# Generate the summary statistics for daily Dallas departures: stats\n",
    "stats = ____```"
   ]
  },
  {
   "cell_type": "code",
   "execution_count": 27,
   "metadata": {},
   "outputs": [
    {
     "name": "stdout",
     "output_type": "stream",
     "text": [
      "count    31.000000\n",
      "mean      9.322581\n",
      "std       1.989759\n",
      "min       3.000000\n",
      "25%       9.500000\n",
      "50%      10.000000\n",
      "75%      10.000000\n",
      "max      11.000000\n",
      "dtype: float64\n"
     ]
    }
   ],
   "source": [
    "#df = pd.read_csv(\"austin airport departure data 2015 july.csv\",index_col='Date',parse_dates=['Date'])\n",
    "df = pd.read_csv('austin airport departure data 2015 july.csv',index_col='Date (MM/DD/YYYY)',parse_dates=['Date (MM/DD/YYYY)'])\n",
    "# Strip extra whitespace from the column names: df.columns\n",
    "#df.columns = df.columns.str.strip(\" \")\n",
    "\n",
    "# Extract data for which the destination airport is Dallas: dallas\n",
    "dallas = df['Destination Airport'].str.contains('DAL')\n",
    "\n",
    "# Compute the total number of Dallas departures each day: daily_departures\n",
    "daily_departures = dallas.resample('D').sum()\n",
    "\n",
    "# Generate the summary statistics for daily Dallas departures: stats\n",
    "stats = daily_departures.describe()\n",
    "print(stats)"
   ]
  },
  {
   "cell_type": "markdown",
   "metadata": {},
   "source": [
    "### Exercise(13) - Missing values and interpolation\n",
    "One common application of interpolation in data analysis is to fill in missing data. \n",
    "In this exercise, noisy measured data that has some dropped or otherwise missing values has been loaded. The goal is to compare two time series, and then look at summary statistics of the differences. The problem is that one of the data sets is missing data at some of the times. The pre-loaded data `` ts1 `` has value for all times, yet the data set `` ts2 `` does not: it is missing data for the weekends. \n",
    "Your job is to first interpolate to fill in the data for all days. Then, compute the differences between the two data sets, now that they both have full support for all times. Finally, generate the summary statistics that describe the distribution of differences.\n",
    "\n",
    "\n",
    "\n",
    "#### Instructions\n",
    "\n",
    "\n",
    "*   Replace the index of `` ts2 `` with that of `` ts1 ``, and then fill in the missing values of `` ts2 `` by using `` .interpolate(how=&amp;aposlinear&amp;apos) ``. Save the result as `` ts2_interp ``.\n",
    "*   Compute the difference between `` ts1 `` and `` ts2_interp ``. Take the absolute value of the difference with `` np.abs() ``, and assign the result to `` differences ``.\n",
    "*   Generate and print summary statistics of the `` differences `` with `` .describe() `` and `` print() ``."
   ]
  },
  {
   "cell_type": "markdown",
   "metadata": {},
   "source": [
    "``` python\n",
    "# Reset the index of ts2 to ts1, and then use linear interpolation to fill in the NaNs: ts2_interp\n",
    "ts2_interp = ____\n",
    "\n",
    "# Compute the absolute difference of ts1 and ts2_interp: differences \n",
    "differences = ____\n",
    "\n",
    "# Generate and print summary statistics of the differences\n",
    "print(____)```"
   ]
  },
  {
   "cell_type": "code",
   "execution_count": 28,
   "metadata": {},
   "outputs": [
    {
     "name": "stdout",
     "output_type": "stream",
     "text": [
      "       Unnamed: 1\n",
      "count   17.000000\n",
      "mean     2.882353\n",
      "std      1.585267\n",
      "min      0.000000\n",
      "25%      2.000000\n",
      "50%      2.666667\n",
      "75%      4.000000\n",
      "max      6.000000\n"
     ]
    }
   ],
   "source": [
    "ts2 = pd.read_csv('ts2_ch3.csv',index_col = 'Date')\n",
    "# Reset the index of ts2 to ts1, and then use linear interpolation to fill in the NaNs: ts2_interp\n",
    "ts2_interp = ts2.reindex(ts1.index).interpolate(how='linear')\n",
    "\n",
    "# Compute the absolute difference of ts1 and ts2_interp: differences \n",
    "differences = np.abs(ts1 - ts2_interp)\n",
    "\n",
    "# Generate and print summary statistics of the differences\n",
    "print(differences.describe())"
   ]
  },
  {
   "cell_type": "markdown",
   "metadata": {},
   "source": [
    "### Exercise(14) - Time zones and conversion\n",
    "Time zone handling with pandas typically assumes that you are handling the Index of the Series. In this exercise, you will learn how to handle timezones that are associated with datetimes in the column data, and not just the Index.\n",
    "You will work with the flight departure dataset again, and this time you will select Los Angeles (`` &amp;aposLAX&amp;apos ``) as the destination airport.\n",
    "Here we will use a _mask_ to ensure that we only compute on data we actually want. To learn more about Boolean masks, click [here](https://docs.scipy.org/doc/numpy/reference/maskedarray.generic.html)!\n",
    "\n",
    "\n",
    "\n",
    "#### Instructions\n",
    "\n",
    "\n",
    "*   Create a Boolean mask, `` mask ``, such that if the `` &amp;aposDestination Airport&amp;apos `` column of `` df `` equals `` &amp;aposLAX&amp;apos ``, the result is `` True ``, and otherwise, it is `` False ``.\n",
    "*   Use the mask to extract only the `` LAX `` rows. Assign the result to `` la ``.\n",
    "*   Concatenate the two columns `` la[&amp;aposDate (MM/DD/YYYY)&amp;apos] `` and `` la[&amp;aposWheels-off Time&amp;apos] `` with a `` &amp;apos &amp;apos `` space in between. Pass this to `` pd.to_datetime() `` to create a datetime array of all the times the LAX-bound flights left the ground.\n",
    "*   Use `` Series.dt.tz_localize() `` to localize the time to `` &amp;aposUS/Central&amp;apos ``.\n",
    "*   Use the `` .dt.tz_convert() `` method to convert datetimes from `` &amp;aposUS/Central&amp;apos `` to `` &amp;aposUS/Pacific&amp;apos ``."
   ]
  },
  {
   "cell_type": "markdown",
   "metadata": {},
   "source": [
    "``` python\n",
    "# Build a Boolean mask to filter out all the 'LAX' departure flights: mask\n",
    "mask = df['Destination Airport'] == ____\n",
    "\n",
    "# Use the mask to subset the data: la\n",
    "la = df[____]\n",
    "\n",
    "# Combine two columns of data to create a datetime series: times_tz_none \n",
    "times_tz_none = pd.____( ____ + ' ' + ____ )\n",
    "\n",
    "# Localize the time to US/Central: times_tz_central\n",
    "times_tz_central = ____\n",
    "\n",
    "# Convert the datetimes from US/Central to US/Pacific\n",
    "times_tz_pacific = ____```"
   ]
  },
  {
   "cell_type": "code",
   "execution_count": 29,
   "metadata": {},
   "outputs": [],
   "source": [
    "#df = pd.read_csv(\"austin airport departure data 2015 july.csv\",index_col='Date',parse_dates=['Date'])\n",
    "df = pd.read_csv('austin airport departure data 2015 july.csv')\n",
    "\n",
    "\n",
    "# Build a Boolean mask to filter out all the 'LAX' departure flights: mask\n",
    "mask = df['Destination Airport'] == 'LAX'\n",
    "\n",
    "# Use the mask to subset the data: la\n",
    "la = df[mask]\n",
    "\n",
    "# Combine two columns of data to create a datetime series: times_tz_none \n",
    "times_tz_none = pd.to_datetime( la['Date (MM/DD/YYYY)'] + ' ' + la['Wheels-off Time'] )\n",
    "\n",
    "# Localize the time to US/Central: times_tz_central\n",
    "times_tz_central = times_tz_none.dt.tz_localize('US/Central')\n",
    "\n",
    "# Convert the datetimes from US/Central to US/Pacific\n",
    "times_tz_pacific = times_tz_central.dt.tz_convert('US/Pacific')"
   ]
  },
  {
   "cell_type": "markdown",
   "metadata": {},
   "source": [
    "### Exercise(16) - Plotting time series, datetime indexing\n",
    "Pandas handles datetimes not only in your data, but also in your plotting. \n",
    "In this exercise, some time series data has been pre-loaded. However, we have not parsed the date-like columns nor set the index, as we have done for you in the past! \n",
    "The plot displayed is how pandas renders data with the default integer/positional index. Your job is to convert the `` &amp;aposDate&amp;apos `` column from a collection of strings into a collection of datetime objects. Then, you will use this converted `` &amp;aposDate&amp;apos `` column as your new index, and re-plot the data, noting the improved datetime awareness. After you are done, you can cycle between the two plots you generated by clicking on the &amp;aposPrevious Plot&amp;apos and &amp;aposNext Plot&amp;apos buttons. \n",
    "Before proceeding, look at the plot shown and observe how pandas handles data with the default integer index. Then, inspect the DataFrame `` df `` using the `` .head() `` method in the IPython Shell to get a feel for its structure.\n",
    "\n",
    "\n",
    "\n",
    "#### Instructions\n",
    "\n",
    "\n",
    "*   Use `` pd.to_datetime() `` to convert the `` &amp;aposDate&amp;apos `` column to a collection of datetime objects, and assign back to `` df.Date ``.\n",
    "*   Set the index to this updated `` &amp;aposDate&amp;apos `` column, using `` df.set_index() `` with the optional keyword argument `` inplace=True ``, so that you don&amp;apost have to assign the result back to `` df ``.\n",
    "*   Re-plot the DataFrame to see that the axis is now datetime aware. This code has been written for you."
   ]
  },
  {
   "cell_type": "markdown",
   "metadata": {},
   "source": [
    "``` python\n",
    "# Plot the raw data before setting the datetime index\n",
    "df.plot()\n",
    "plt.show()\n",
    "\n",
    "# Convert the 'Date' column into a collection of datetime objects: df.Date\n",
    "df.Date = ____\n",
    "\n",
    "# Set the index to be the converted 'Date' column\n",
    "____\n",
    "\n",
    "# Re-plot the DataFrame to see that the axis is now datetime aware!\n",
    "df.plot()\n",
    "plt.show()```"
   ]
  },
  {
   "cell_type": "code",
   "execution_count": 30,
   "metadata": {},
   "outputs": [
    {
     "name": "stdout",
     "output_type": "stream",
     "text": [
      "<class 'pandas.core.frame.DataFrame'>\n",
      "RangeIndex: 744 entries, 0 to 743\n",
      "Data columns (total 2 columns):\n",
      "Temperature    744 non-null float64\n",
      "Date           744 non-null object\n",
      "dtypes: float64(1), object(1)\n",
      "memory usage: 11.7+ KB\n",
      "None\n",
      "   Temperature            Date\n",
      "0         46.2  20100101 00:00\n",
      "1         44.6  20100101 01:00\n",
      "2         44.1  20100101 02:00\n",
      "3         43.8  20100101 03:00\n",
      "4         43.5  20100101 04:00\n"
     ]
    },
    {
     "data": {
      "image/png": "[encoded data removed]",
      "text/plain": [
       "<Figure size 432x288 with 1 Axes>"
      ]
     },
     "metadata": {
      "needs_background": "light"
     },
     "output_type": "display_data"
    },
    {
     "data": {
      "image/png": "[encoded data removed]",
      "text/plain": [
       "<Figure size 432x288 with 1 Axes>"
      ]
     },
     "metadata": {
      "needs_background": "light"
     },
     "output_type": "display_data"
    }
   ],
   "source": [
    "# df = pd.read_csv(\"weather data austin 2010.csv\", parse_dates=['Date'], index_col='Date')\n",
    "df = pd.read_csv(\"weather data austin 2010.csv\")\n",
    "df = df[['Temperature', 'Date']][0:744]\n",
    "print(df.info())\n",
    "print(df.head())\n",
    "# Plot the raw data before setting the datetime index\n",
    "df.plot()\n",
    "plt.show()\n",
    "\n",
    "# Convert the 'Date' column into a collection of datetime objects: df.Date\n",
    "df.Date = pd.to_datetime(df.Date)\n",
    "\n",
    "# Set the index to be the converted 'Date' column\n",
    "df.set_index('Date',inplace=True)\n",
    "\n",
    "# Re-plot the DataFrame to see that the axis is now datetime aware!\n",
    "df.plot()\n",
    "plt.show()"
   ]
  },
  {
   "cell_type": "markdown",
   "metadata": {},
   "source": [
    "### Exercise(17) - Plotting date ranges, partial indexing\n",
    "Now that you have set the DatetimeIndex in your DataFrame, you have a much more powerful and flexible set of tools to use when plotting your time series data. Of these, one of the most convenient is partial string indexing and slicing. In this exercise, we&amp;aposve pre-loaded a full year of Austin 2010 weather data, with the index set to be the datetime parsed `` &amp;aposDate&amp;apos `` column as shown in the previous exercise. \n",
    "Your job is to use partial string indexing of the dates, in a variety of datetime string formats, to plot all the summer data and just one week of data together. After you are done, you can cycle between the two plots by clicking on the &amp;aposPrevious Plot&amp;apos and &amp;aposNext Plot&amp;apos buttons.\n",
    "First, remind yourself how to extract one month of temperature data using `` &amp;aposMay 2010&amp;apos `` as a key into `` df.Temperature[] ``, and call `` head() `` to inspect the result: `` df.Temperature[&amp;aposMay 2010&amp;apos].head() ``.\n",
    "\n",
    "\n",
    "\n",
    "#### Instructions\n",
    "\n",
    "\n",
    "*   Plot the summer temperatures using method chaining. The summer ranges from the months `` &amp;apos2010-Jun&amp;apos `` to `` &amp;apos2010-Aug&amp;apos ``. \n",
    "*   Plot the temperatures for one week in June using the same method chaining, but this time indexing with `` &amp;apos2010-06-10&amp;apos:&amp;apos2010-06-17&amp;apos `` before you follow up with `` .plot() ``."
   ]
  },
  {
   "cell_type": "markdown",
   "metadata": {},
   "source": [
    "``` python\n",
    "# Plot the summer data\n",
    "df.Temperature[____:____].____\n",
    "plt.show()\n",
    "plt.clf()\n",
    "\n",
    "# Plot the one week data\n",
    "df.Temperature[____:____].____\n",
    "plt.show()\n",
    "plt.clf()```\n"
   ]
  },
  {
   "cell_type": "code",
   "execution_count": 31,
   "metadata": {},
   "outputs": [
    {
     "data": {
      "image/png": "[encoded data removed]",
      "text/plain": [
       "<Figure size 432x288 with 1 Axes>"
      ]
     },
     "metadata": {
      "needs_background": "light"
     },
     "output_type": "display_data"
    },
    {
     "data": {
      "image/png": "[encoded data removed]",
      "text/plain": [
       "<Figure size 432x288 with 1 Axes>"
      ]
     },
     "metadata": {
      "needs_background": "light"
     },
     "output_type": "display_data"
    },
    {
     "data": {
      "text/plain": [
       "<Figure size 432x288 with 0 Axes>"
      ]
     },
     "metadata": {},
     "output_type": "display_data"
    }
   ],
   "source": [
    "df = pd.read_csv(\"weather data austin 2010.csv\",index_col='Date',parse_dates=['Date'])\n",
    "# Plot the summer data\n",
    "df.Temperature['2010-06':'2010-08'].plot()\n",
    "plt.show()\n",
    "plt.clf()\n",
    "\n",
    "# Plot the one week data\n",
    "df.Temperature['2010-06-10':'2010-06-17'].plot()\n",
    "plt.show()\n",
    "plt.clf()\n"
   ]
  },
  {
   "cell_type": "markdown",
   "metadata": {},
   "source": [
    "## Chapter (4) - Case Study - Sunlight in Austin\n",
    "\n",
    "### Exercise(2) - What method should we use to read the data?\n",
    "The first step in our analysis is to read in the data. Upon inspection with a certain system tool, we find that the data appears to be ASCII encoded with comma delimited columns, but has no header and no column labels. Which of the following is the best method to start with to read the data files?\n",
    "\n",
    "#### Possible Answers\n",
    "\n",
    "1. pd.read_csv()\n",
    "2. pd.to_csv()\n",
    "3. pd.read_hdf()\n",
    "4. np.load()\n",
    "\n",
    "\n",
    "#### The Answer is (1)\n",
    "\n",
    "\n",
    "\n"
   ]
  },
  {
   "cell_type": "markdown",
   "metadata": {},
   "source": [
    "### Exercise(3) - Reading in a data file\n",
    "Now that you have identified the method to use to read the data, let&amp;aposs try to read one file. The problem with real data such as this is that the files are almost never formatted in a convenient way. In this exercise, there are several problems to overcome in reading the file. First, there is no header, and thus the columns don&amp;apost have labels. There is also no obvious index column, since none of the data columns contain a full date or time.\n",
    "Your job is to read the file into a DataFrame using the default arguments. After inspecting it, you will re-read the file specifying that there are no headers supplied. \n",
    "The CSV file has been provided for you as the variable `` data_file ``.\n",
    "\n",
    "\n",
    "\n",
    "#### Instructions\n",
    "\n",
    "\n",
    "*   Import `` pandas `` as `` pd ``.\n",
    "*   Read the file `` data_file `` into a DataFrame called `` df ``.\n",
    "*   Print the output of `` df.head() ``. This has been done for you. Notice the formatting problems in `` df ``.\n",
    "*   Re-read the data using specifying the keyword argument `` header=None `` and assign it to `` df_headers ``.\n",
    "*   Print the output of `` df_headers.head() ``. This has already been done for you. Hit &amp;aposSubmit Answer&amp;apos and see how this resolves the formatting issues.\n",
    "\n"
   ]
  },
  {
   "cell_type": "markdown",
   "metadata": {},
   "source": [
    "``` python\n",
    "# Import pandas\n",
    "\n",
    "\n",
    "# Read in the data file: df\n",
    "df = pd.read_csv(____)\n",
    "\n",
    "# Print the output of df.head()\n",
    "print(df.head())\n",
    "\n",
    "# Read in the data file with header=None: df_headers\n",
    "df_headers = pd.read_csv(____, ____=None)\n",
    "\n",
    "# Print the output of df_headers.head()\n",
    "print(df_headers.head())```"
   ]
  },
  {
   "cell_type": "code",
   "execution_count": 32,
   "metadata": {},
   "outputs": [
    {
     "name": "stdout",
     "output_type": "stream",
     "text": [
      "   13904  20110101  0053  12  OVC045     10.00  .1  .2  .3 ...   .18  .19  \\\n",
      "0  13904  20110101   153  12  OVC049     10.00             ...              \n",
      "1  13904  20110101   253  12  OVC060     10.00             ...   030        \n",
      "2  13904  20110101   353  12  OVC065     10.00             ...              \n",
      "3  13904  20110101   453  12  BKN070     10.00             ...              \n",
      "4  13904  20110101   553  12  BKN065     10.00             ...   015        \n",
      "\n",
      "   29.95  .20  AA  .21  .22  .23 29.95.1  .24  \n",
      "0  30.01       AA                  30.02       \n",
      "1  30.01       AA                  30.02       \n",
      "2  30.03       AA                  30.04       \n",
      "3  30.04       AA                  30.04       \n",
      "4  30.06       AA                  30.06       \n",
      "\n",
      "[5 rows x 44 columns]\n",
      "      0         1    2   3       4  5      6  7  8  9  ...   34 35     36 37  \\\n",
      "0  13904  20110101   53  12  OVC045     10.00          ...          29.95      \n",
      "1  13904  20110101  153  12  OVC049     10.00          ...          30.01      \n",
      "2  13904  20110101  253  12  OVC060     10.00          ...  030     30.01      \n",
      "3  13904  20110101  353  12  OVC065     10.00          ...          30.03      \n",
      "4  13904  20110101  453  12  BKN070     10.00          ...          30.04      \n",
      "\n",
      "   38 39 40 41     42 43  \n",
      "0  AA           29.95     \n",
      "1  AA           30.02     \n",
      "2  AA           30.02     \n",
      "3  AA           30.04     \n",
      "4  AA           30.04     \n",
      "\n",
      "[5 rows x 44 columns]\n"
     ]
    }
   ],
   "source": [
    "# Import pandas\n",
    "import pandas as pd\n",
    "data_file = \"NOAA QCLCD 2011 hourly 13904.txt\"\n",
    "# Read in the data file: df\n",
    "df = pd.read_csv(data_file)\n",
    "\n",
    "# Print the output of df.head()\n",
    "print(df.head())\n",
    "\n",
    "# Read in the data file with header=None: df_headers\n",
    "df_headers = pd.read_csv(data_file, header=None)\n",
    "\n",
    "# Print the output of df_headers.head()\n",
    "print(df_headers.head())"
   ]
  },
  {
   "cell_type": "markdown",
   "metadata": {},
   "source": [
    "### Exercise(4) - Re-assigning column names\n",
    "After the initial step of reading in the data, the next step is to clean and tidy it so that it is easier to work with.\n",
    "In this exercise, you will begin this cleaning process by re-assigning column names and dropping unnecessary columns.\n",
    "pandas has been imported in the workspace as `` pd ``, and the file `` NOAA_QCLCD_2011_hourly_13904.txt `` has been parsed and loaded into a DataFrame `` df ``. The comma separated string of column names, `` column_labels ``, and list of columns to drop, `` list_to_drop ``, have also been loaded for you.\n",
    "\n",
    "\n",
    "\n",
    "#### Instructions\n",
    "\n",
    "\n",
    "*   Convert the comma separated string `` column_labels `` to a list of strings using `` .split() ``. Assign the result to `` column_labels_list ``.\n",
    "*   Reassign `` df.columns `` using the list of strings `` column_labels_list ``.\n",
    "*   Call `` df.drop() `` with `` list_to_drop `` and `` axis=columns ``. Assign the result to `` df_dropped ``.\n",
    "*   Print `` df_dropped.head() `` to examine the result. This has already been done for you.\n",
    "\n"
   ]
  },
  {
   "cell_type": "markdown",
   "metadata": {},
   "source": [
    "``` python\n",
    "# Split on the comma to create a list: column_labels_list\n",
    "column_labels_list = ____\n",
    "\n",
    "# Assign the new column labels to the DataFrame: df.columns\n",
    "____ = column_labels_list\n",
    "\n",
    "# Remove the appropriate columns: df_dropped\n",
    "df_dropped = ____\n",
    "\n",
    "# Print the output of df_dropped.head()\n",
    "print(df_dropped.head())```"
   ]
  },
  {
   "cell_type": "code",
   "execution_count": 33,
   "metadata": {
    "scrolled": true
   },
   "outputs": [
    {
     "name": "stdout",
     "output_type": "stream",
     "text": [
      "    Wban      date  Time  StationType sky_condition visibility dry_bulb_faren  \\\n",
      "0  13904  20110101   153           12        OVC049      10.00             51   \n",
      "1  13904  20110101   253           12        OVC060      10.00             51   \n",
      "2  13904  20110101   353           12        OVC065      10.00             50   \n",
      "3  13904  20110101   453           12        BKN070      10.00             50   \n",
      "4  13904  20110101   553           12        BKN065      10.00             49   \n",
      "\n",
      "  dry_bulb_cel wet_bulb_faren wet_bulb_cel dew_point_faren dew_point_cel  \\\n",
      "0         10.6             37          3.0              14         -10.0   \n",
      "1         10.6             37          2.9              13         -10.6   \n",
      "2         10.0             38          3.1              17          -8.3   \n",
      "3         10.0             37          2.8              15          -9.4   \n",
      "4          9.4             37          2.8              17          -8.3   \n",
      "\n",
      "  relative_humidity wind_speed wind_direction station_pressure  \\\n",
      "0                23         10            340            29.49   \n",
      "1                22         15            010            29.49   \n",
      "2                27          7            350            29.51   \n",
      "3                25         11            020            29.51   \n",
      "4                28          6            010            29.53   \n",
      "\n",
      "  sea_level_pressure  \n",
      "0              30.01  \n",
      "1              30.01  \n",
      "2              30.03  \n",
      "3              30.04  \n",
      "4              30.06  \n"
     ]
    }
   ],
   "source": [
    "\n",
    "column_labels = \"\"\"\n",
    "Wban,date,Time,StationType,sky_condition,sky_conditionFlag,visibility,visibilityFlag,wx_and_obst_to_vision,\n",
    "wx_and_obst_to_visionFlag,dry_bulb_faren,dry_bulb_farenFlag,dry_bulb_cel,dry_bulb_celFlag,wet_bulb_faren,\n",
    "wet_bulb_farenFlag,wet_bulb_cel,wet_bulb_celFlag,dew_point_faren,dew_point_farenFlag,dew_point_cel,\n",
    "dew_point_celFlag,relative_humidity,relative_humidityFlag,wind_speed,wind_speedFlag,wind_direction,\n",
    "wind_directionFlag,value_for_wind_character,value_for_wind_characterFlag,station_pressure,station_pressureFlag,\n",
    "pressure_tendency,pressure_tendencyFlag,presschange,presschangeFlag,sea_level_pressure,\n",
    "sea_level_pressureFlag,record_type,hourly_precip,hourly_precipFlag,altimeter,altimeterFlag,junk\n",
    "\"\"\"\n",
    "\n",
    "# Split on the comma to create a list: column_labels_list\n",
    "column_labels_list = column_labels.replace(\"\\n\", \"\").split(',')\n",
    "\n",
    "# Assign the new column labels to the DataFrame: df.columns\n",
    "df.columns = column_labels_list\n",
    "\n",
    "\n",
    "# Remove the appropriate columns: df_dropped\n",
    "list_to_drop = ['sky_conditionFlag',\n",
    " 'visibilityFlag',\n",
    " 'wx_and_obst_to_vision',\n",
    " 'wx_and_obst_to_visionFlag',\n",
    " 'dry_bulb_farenFlag',\n",
    " 'dry_bulb_celFlag',\n",
    " 'wet_bulb_farenFlag',\n",
    " 'wet_bulb_celFlag',\n",
    " 'dew_point_farenFlag',\n",
    " 'dew_point_celFlag',\n",
    " 'relative_humidityFlag',\n",
    " 'wind_speedFlag',\n",
    " 'wind_directionFlag',\n",
    " 'value_for_wind_character',\n",
    " 'value_for_wind_characterFlag',\n",
    " 'station_pressureFlag',\n",
    " 'pressure_tendencyFlag',\n",
    " 'pressure_tendency',\n",
    " 'presschange',\n",
    " 'presschangeFlag',\n",
    " 'sea_level_pressureFlag',\n",
    " 'hourly_precip',\n",
    " 'hourly_precipFlag',\n",
    " 'altimeter',\n",
    " 'record_type',\n",
    " 'altimeterFlag',\n",
    " 'junk']\n",
    "\n",
    "df_dropped = df.drop(list_to_drop,axis='columns')\n",
    "\n",
    "# Print the output of df_dropped.head()\n",
    "print(df_dropped.head())"
   ]
  },
  {
   "cell_type": "markdown",
   "metadata": {},
   "source": [
    "### Exercise(5) - Cleaning and tidying datetime data\n",
    "In order to use the full power of pandas time series, you must construct a `` DatetimeIndex ``. To do so, it is necessary to clean and transform the date and time columns. \n",
    "The DataFrame `` df_dropped `` you created in the last exercise is provided for you and pandas has been imported as `` pd ``.\n",
    "Your job is to clean up the `` date `` and `` Time `` columns and combine them into a datetime collection to be used as the Index.\n",
    "\n",
    "\n",
    "\n",
    "#### Instructions\n",
    "\n",
    "\n",
    "*   Convert the `` date`` column to a string with `` .astype(str) `` and assign to `` df_dropped[date] ``.\n",
    "*   Add leading zeros to the `` Time `` column. This has been done for you.\n",
    "*   Concatenate the new `` date `` and `` Time `` columns together. Assign to `` date_string ``.\n",
    "*   Convert the `` date_string `` Series to datetime values with `` pd.to_datetime() ``. Specify the `` format `` parameter.\n",
    "*   Set the index of the `` df_dropped `` DataFrame to be `` date_times ``. Assign the result to `` df_clean ``."
   ]
  },
  {
   "cell_type": "markdown",
   "metadata": {},
   "source": [
    "``` python\n",
    "# Convert the date column to string: df_dropped['date']\n",
    "df_dropped['date'] = ____\n",
    "\n",
    "# Pad leading zeros to the Time column: df_dropped['Time']\n",
    "df_dropped['Time'] = df_dropped['Time'].apply(lambda x:'{:0>4}'.format(x))\n",
    "\n",
    "# Concatenate the new date and Time columns: date_string\n",
    "date_string = ____\n",
    "\n",
    "# Convert the date_string Series to datetime: date_times\n",
    "date_times = pd.____(date_string, ____='%Y%m%d%H%M')\n",
    "\n",
    "# Set the index to be the new date_times container: df_clean\n",
    "df_clean = ____\n",
    "\n",
    "# Print the output of df_clean.head()\n",
    "print(df_clean.head())```"
   ]
  },
  {
   "cell_type": "code",
   "execution_count": 34,
   "metadata": {},
   "outputs": [
    {
     "name": "stdout",
     "output_type": "stream",
     "text": [
      "                      Wban      date  Time  StationType sky_condition  \\\n",
      "2011-01-01 01:53:00  13904  20110101  0153           12        OVC049   \n",
      "2011-01-01 02:53:00  13904  20110101  0253           12        OVC060   \n",
      "2011-01-01 03:53:00  13904  20110101  0353           12        OVC065   \n",
      "2011-01-01 04:53:00  13904  20110101  0453           12        BKN070   \n",
      "2011-01-01 05:53:00  13904  20110101  0553           12        BKN065   \n",
      "\n",
      "                    visibility dry_bulb_faren dry_bulb_cel wet_bulb_faren  \\\n",
      "2011-01-01 01:53:00      10.00             51         10.6             37   \n",
      "2011-01-01 02:53:00      10.00             51         10.6             37   \n",
      "2011-01-01 03:53:00      10.00             50         10.0             38   \n",
      "2011-01-01 04:53:00      10.00             50         10.0             37   \n",
      "2011-01-01 05:53:00      10.00             49          9.4             37   \n",
      "\n",
      "                    wet_bulb_cel dew_point_faren dew_point_cel  \\\n",
      "2011-01-01 01:53:00          3.0              14         -10.0   \n",
      "2011-01-01 02:53:00          2.9              13         -10.6   \n",
      "2011-01-01 03:53:00          3.1              17          -8.3   \n",
      "2011-01-01 04:53:00          2.8              15          -9.4   \n",
      "2011-01-01 05:53:00          2.8              17          -8.3   \n",
      "\n",
      "                    relative_humidity wind_speed wind_direction  \\\n",
      "2011-01-01 01:53:00                23         10            340   \n",
      "2011-01-01 02:53:00                22         15            010   \n",
      "2011-01-01 03:53:00                27          7            350   \n",
      "2011-01-01 04:53:00                25         11            020   \n",
      "2011-01-01 05:53:00                28          6            010   \n",
      "\n",
      "                    station_pressure sea_level_pressure  \n",
      "2011-01-01 01:53:00            29.49              30.01  \n",
      "2011-01-01 02:53:00            29.49              30.01  \n",
      "2011-01-01 03:53:00            29.51              30.03  \n",
      "2011-01-01 04:53:00            29.51              30.04  \n",
      "2011-01-01 05:53:00            29.53              30.06  \n"
     ]
    }
   ],
   "source": [
    "\n",
    "# Convert the date column to string: df_dropped['date']\n",
    "df_dropped['date'] = df_dropped['date'].astype(str)\n",
    "\n",
    "# Pad leading zeros to the Time column: df_dropped['Time']\n",
    "df_dropped['Time'] = df_dropped['Time'].apply(lambda x:'{:0>4}'.format(x))\n",
    "\n",
    "# Concatenate the new date and Time columns: date_string\n",
    "date_string = df_dropped['date']+df_dropped['Time']\n",
    "\n",
    "# Convert the date_string Series to datetime: date_times\n",
    "date_times = pd.to_datetime(date_string, format='%Y%m%d%H%M')\n",
    "\n",
    "# Set the index to be the new date_times container: df_clean\n",
    "df_clean = df_dropped.set_index(date_times)\n",
    "\n",
    "# Print the output of df_clean.head()\n",
    "print(df_clean.head())"
   ]
  },
  {
   "cell_type": "markdown",
   "metadata": {},
   "source": [
    "### Exercise(6) - Cleaning the numeric columns\n",
    "The numeric columns contain missing values labeled as `` M ``. In this exercise, your job is to transform these columns such that they contain only numeric values and interpret missing data as `` NaN ``.\n",
    "The pandas function `` pd.to_numeric() `` is ideal for this purpose: It converts a Series of values to floating-point values. Furthermore, by specifying the keyword argument `` errors=coerce ``, you can force strings like `` M `` to be interpreted as `` NaN ``. \n",
    "A DataFrame `` df_clean `` is provided for you at the start of the exercise, and as usual, pandas has been imported as `` pd ``.\n",
    "\n",
    "\n",
    "\n",
    "#### Instructions\n",
    "\n",
    "\n",
    "*   Print the `` dry_bulb_faren `` temperature between 8 AM and 9 AM on June 20, 2011.\n",
    "*   Convert the `` dry_bulb_faren `` column to numeric values with `` pd.to_numeric() ``. Specify `` errors=coerce&amp;apos ``.\n",
    "*   Print the transformed `` dry_bulb_faren `` temperature between 8 AM and 9 AM on June 20, 2011.\n",
    "*   Convert the `` wind_speed `` and `` dew_point_faren `` columns to numeric values with `` pd.to_numeric() ``. Again, specify `` errors=coerce ``."
   ]
  },
  {
   "cell_type": "markdown",
   "metadata": {},
   "source": [
    "``` python\n",
    "# Print the dry_bulb_faren temperature between 8 AM and 9 AM on June 20, 2011\n",
    "print(df_clean.loc[____:____, ____])\n",
    "\n",
    "# Convert the dry_bulb_faren column to numeric values: df_clean['dry_bulb_faren']\n",
    "df_clean['dry_bulb_faren'] = ____(df_clean['dry_bulb_faren'], ____=____)\n",
    "\n",
    "# Print the transformed dry_bulb_faren temperature between 8 AM and 9 AM on June 20, 2011\n",
    "print(df_clean.____[____:____, ____])\n",
    "\n",
    "# Convert the wind_speed and dew_point_faren columns to numeric values\n",
    "df_clean['wind_speed'] = pd.to_numeric(____, ____=____)\n",
    "df_clean['dew_point_faren'] = pd.to_numeric(____, ____=____)```"
   ]
  },
  {
   "cell_type": "code",
   "execution_count": 35,
   "metadata": {},
   "outputs": [
    {
     "name": "stdout",
     "output_type": "stream",
     "text": [
      "2011-06-20 08:27:00     M\n",
      "2011-06-20 08:28:00     M\n",
      "2011-06-20 08:29:00     M\n",
      "2011-06-20 08:30:00     M\n",
      "2011-06-20 08:31:00     M\n",
      "2011-06-20 08:32:00     M\n",
      "2011-06-20 08:33:00     M\n",
      "2011-06-20 08:34:00     M\n",
      "2011-06-20 08:35:00     M\n",
      "2011-06-20 08:53:00    83\n",
      "Name: dry_bulb_faren, dtype: object\n"
     ]
    }
   ],
   "source": [
    "# df_clean = df_dropped\n",
    "# print(df_clean)\n",
    "\n",
    "# Print the dry_bulb_faren temperature between 8 AM and 9 AM on June 20, 2011\n",
    "print(df_clean.loc['2011-6-20 08:00:00':'2011-6-20 09:00:00', 'dry_bulb_faren'])"
   ]
  },
  {
   "cell_type": "code",
   "execution_count": 36,
   "metadata": {},
   "outputs": [
    {
     "name": "stdout",
     "output_type": "stream",
     "text": [
      "2011-06-20 08:27:00     NaN\n",
      "2011-06-20 08:28:00     NaN\n",
      "2011-06-20 08:29:00     NaN\n",
      "2011-06-20 08:30:00     NaN\n",
      "2011-06-20 08:31:00     NaN\n",
      "2011-06-20 08:32:00     NaN\n",
      "2011-06-20 08:33:00     NaN\n",
      "2011-06-20 08:34:00     NaN\n",
      "2011-06-20 08:35:00     NaN\n",
      "2011-06-20 08:53:00    83.0\n",
      "Name: dry_bulb_faren, dtype: float64\n"
     ]
    }
   ],
   "source": [
    "# Convert the dry_bulb_faren column to numeric values: df_clean['dry_bulb_faren']\n",
    "df_clean['dry_bulb_faren'] = pd.to_numeric(df_clean['dry_bulb_faren'], errors='coerce')\n",
    "\n",
    "# Print the transformed dry_bulb_faren temperature between 8 AM and 9 AM on June 20, 2011\n",
    "print(df_clean.loc['2011-6-20 08:00:00':'2011-6-20 09:00:00','dry_bulb_faren'])\n",
    "\n",
    "# Convert the wind_speed and dew_point_faren columns to numeric values\n",
    "df_clean['wind_speed'] = pd.to_numeric(df_clean['wind_speed'], errors='coerce')\n",
    "df_clean['dew_point_faren'] = pd.to_numeric(df_clean['dew_point_faren'], errors='coerce')"
   ]
  },
  {
   "cell_type": "markdown",
   "metadata": {},
   "source": [
    "### Exercise(8) - Signal min, max, median\n",
    "Now that you have the data read and cleaned, you can begin with statistical EDA. First, you will analyze the 2011 Austin weather data. \n",
    "Your job in this exercise is to analyze the `` dry_bulb_faren `` column and print the median temperatures for specific time ranges. You can do this using _partial datetime string_ selection.\n",
    "The cleaned dataframe is provided in the workspace as `` df_clean ``.\n",
    "\n",
    "\n",
    "\n",
    "#### Instructions\n",
    "\n",
    "\n",
    "*   Select the `` dry_bulb_faren `` column and print the output of `` .median() ``.\n",
    "*   Use `` .loc[] `` to select the range `` 2011-Apr:2011-Jun `` from `` dry_bulb_faren `` and print the output of `` .median() ``.\n",
    "*   Use `` .loc[] `` to select the month `` 2011-Jan `` from `` dry_bulb_faren `` and print the output of `` .median() ``.\n"
   ]
  },
  {
   "cell_type": "markdown",
   "metadata": {},
   "source": [
    "``` python\n",
    "# Print the median of the dry_bulb_faren column\n",
    "print(____)\n",
    "\n",
    "# Print the median of the dry_bulb_faren column for the time range '2011-Apr':'2011-Jun'\n",
    "print(df_clean.loc[____:____, 'dry_bulb_faren'].____)\n",
    "\n",
    "# Print the median of the dry_bulb_faren column for the month of January\n",
    "print(df_clean.____[____, ____].____)```"
   ]
  },
  {
   "cell_type": "code",
   "execution_count": 37,
   "metadata": {},
   "outputs": [
    {
     "name": "stdout",
     "output_type": "stream",
     "text": [
      "72.0\n",
      "78.0\n",
      "48.0\n"
     ]
    }
   ],
   "source": [
    "# Print the median of the dry_bulb_faren column\n",
    "print(df_clean['dry_bulb_faren'].median())\n",
    "\n",
    "# Print the median of the dry_bulb_faren column for the time range '2011-Apr':'2011-Jun'\n",
    "print(df_clean.loc['2011-Apr':'2011-Jun', 'dry_bulb_faren'].median())\n",
    "\n",
    "# Print the median of the dry_bulb_faren column for the month of January\n",
    "print(df_clean.loc['2011-Jan', 'dry_bulb_faren'].median())"
   ]
  },
  {
   "cell_type": "markdown",
   "metadata": {},
   "source": [
    "### Exercise(9) - Signal variance\n",
    "You&amp;aposre now ready to compare the 2011 weather data with the 30-year normals reported in 2010.You can ask questions such as, on average, how much hotter was every day in 2011 than expected from the 30-year average?\n",
    "The DataFrames `` df_clean `` and `` df_climate `` from previous exercises are available in the workspace.\n",
    "Your job is to first resample `` df_clean `` and `` df_climate `` by day and aggregate the mean temperatures. You will then extract the temperature related columns from each - `` dry_bulb_faren `` in `` df_clean ``, and `` Temperature `` in `` df_climate `` - as NumPy arrays and compute the difference.\n",
    "Notice that the indexes of `` df_clean `` and `` df_climate `` are not aligned - `` df_clean `` has dates in 2011, while `` df_climate `` has dates in 2010. This is why you extract the temperature columns as NumPy arrays. An alternative approach is to use the pandas `` .reset_index() `` method to make sure the Series align properly. You will practice this approach as well.\n",
    "\n",
    "\n",
    "\n",
    "#### Instructions\n",
    "\n",
    "\n",
    "*   Downsample `` df_clean `` with _daily_ frequency and aggregate by the mean. Store the result as `` daily_mean_2011 ``.\n",
    "*   Extract the `` dry_bulb_faren `` column from `` daily_mean_2011 `` as a NumPy array using `` .values ``. Store the result as `` daily_temp_2011 ``. Note: `` .values `` is an attribute, not a method, so you don&amp;apost have to use `` () ``.\n",
    "*   Downsample `` df_climate `` with _daily_ frequency and aggregate by the mean. Store the result as `` daily_climate ``.\n",
    "*   Extract the `` Temperature `` column from `` daily_climate `` using the `` .reset_index() `` method. To do this, first reset the index of `` daily_climate ``, and then use bracket slicing to access `` Temperature ``. Store the result as `` daily_temp_climate ``.\n"
   ]
  },
  {
   "cell_type": "markdown",
   "metadata": {},
   "source": [
    "```python\n",
    "# Downsample df_clean by day and aggregate by mean: daily_mean_2011\n",
    "daily_mean_2011 = ____\n",
    "\n",
    "# Extract the dry_bulb_faren column from daily_mean_2011 using .values: daily_temp_2011\n",
    "daily_temp_2011 = ____\n",
    "\n",
    "# Downsample df_climate by day and aggregate by mean: daily_climate\n",
    "daily_climate = ____\n",
    "\n",
    "# Extract the Temperature column from daily_climate using .reset_index(): daily_temp_climate\n",
    "daily_temp_climate = ____\n",
    "\n",
    "# Compute the difference between the two arrays and print the mean difference\n",
    "difference = daily_temp_2011 - daily_temp_climate\n",
    "print(difference.mean())```"
   ]
  },
  {
   "cell_type": "code",
   "execution_count": 38,
   "metadata": {},
   "outputs": [
    {
     "name": "stdout",
     "output_type": "stream",
     "text": [
      "1.330083921569873\n"
     ]
    }
   ],
   "source": [
    "import pandas as pd\n",
    "df_climate = pd.read_csv(\"weather data austin 2010.csv\",index_col = 'Date', parse_dates=['Date'])\n",
    "df_climate = df_climate[['Temperature','DewPoint','Pressure']]\n",
    "\n",
    "# Downsample df_clean by day and aggregate by mean: daily_mean_2011\n",
    "daily_mean_2011 = df_clean.resample('D').mean()\n",
    "\n",
    "# Extract the dry_bulb_faren column from daily_mean_2011 using .values: daily_temp_2011\n",
    "daily_temp_2011 =  daily_mean_2011['dry_bulb_faren'].values\n",
    "\n",
    "# Downsample df_climate by day and aggregate by mean: daily_climate\n",
    "daily_climate = df_climate.resample('D').mean()\n",
    "\n",
    "# Extract the Temperature column from daily_climate using .reset_index(): daily_temp_climate\n",
    "daily_temp_climate = daily_climate.reset_index()['Temperature']\n",
    "\n",
    "# Compute the difference between the two arrays and print the mean difference\n",
    "difference = daily_temp_2011 - daily_temp_climate\n",
    "print(difference.mean())"
   ]
  },
  {
   "cell_type": "markdown",
   "metadata": {},
   "source": [
    "### Exercise(10) - Sunny or cloudy\n",
    "On average, how much hotter is it when the sun is shining? In this exercise, you will compare temperatures on sunny days against temperatures on overcast days.\n",
    "Your job is to use Boolean selection to filter out sunny and overcast days, and then compute the difference of the mean daily maximum temperatures between each type of day.\n",
    "The DataFrame `` df_clean `` from previous exercises has been provided for you. The column `` sky_condition `` provides information about whether the day was sunny (`` CLR ``) or overcast (`` OVC ``).\n",
    "\n",
    "\n",
    "\n",
    "#### Instructions\n",
    "\n",
    "\n",
    "*   Get the cases in `` df_clean `` where the sky is clear. That is, when `` sky_condition `` equals `` CLR ``, assigning to `` is_sky_clear ``.\n",
    "*   Use `` .loc[] `` to filter `` df_clean `` by `` is_sky_clear ``, assigning to `` sunny ``.\n",
    "*   Resample `` sunny `` by day (`` D ``), and take the max to find the maximum daily temperature.\n",
    "\n",
    "\n"
   ]
  },
  {
   "cell_type": "markdown",
   "metadata": {},
   "source": [
    "``` python\n",
    "# Using df_clean, when is sky_condition 'CLR'?\n",
    "is_sky_clear = ____['____']=='____'\n",
    "\n",
    "# Filter df_clean using is_sky_clear\n",
    "sunny = ____[____]\n",
    "\n",
    "# Resample sunny by day then calculate the max\n",
    "sunny_daily_max = ____.____('____').____()\n",
    "\n",
    "# See the result\n",
    "sunny_daily_max.head()```"
   ]
  },
  {
   "cell_type": "code",
   "execution_count": 39,
   "metadata": {
    "scrolled": true
   },
   "outputs": [
    {
     "data": {
      "text/html": [
       "<div>\n",
       "<style scoped>\n",
       "    .dataframe tbody tr th:only-of-type {\n",
       "        vertical-align: middle;\n",
       "    }\n",
       "\n",
       "    .dataframe tbody tr th {\n",
       "        vertical-align: top;\n",
       "    }\n",
       "\n",
       "    .dataframe thead th {\n",
       "        text-align: right;\n",
       "    }\n",
       "</style>\n",
       "<table border=\"1\" class=\"dataframe\">\n",
       "  <thead>\n",
       "    <tr style=\"text-align: right;\">\n",
       "      <th></th>\n",
       "      <th>Wban</th>\n",
       "      <th>date</th>\n",
       "      <th>Time</th>\n",
       "      <th>StationType</th>\n",
       "      <th>sky_condition</th>\n",
       "      <th>dry_bulb_faren</th>\n",
       "      <th>dry_bulb_cel</th>\n",
       "      <th>wet_bulb_faren</th>\n",
       "      <th>wet_bulb_cel</th>\n",
       "      <th>dew_point_faren</th>\n",
       "      <th>dew_point_cel</th>\n",
       "      <th>relative_humidity</th>\n",
       "      <th>wind_speed</th>\n",
       "      <th>wind_direction</th>\n",
       "      <th>station_pressure</th>\n",
       "      <th>sea_level_pressure</th>\n",
       "    </tr>\n",
       "  </thead>\n",
       "  <tbody>\n",
       "    <tr>\n",
       "      <th>2011-01-01</th>\n",
       "      <td>13904.0</td>\n",
       "      <td>20110101</td>\n",
       "      <td>0353</td>\n",
       "      <td>12.0</td>\n",
       "      <td>OVC065</td>\n",
       "      <td>51.0</td>\n",
       "      <td>10.6</td>\n",
       "      <td>38</td>\n",
       "      <td>3.1</td>\n",
       "      <td>17.0</td>\n",
       "      <td>-8.3</td>\n",
       "      <td>27</td>\n",
       "      <td>15.0</td>\n",
       "      <td>350</td>\n",
       "      <td>29.51</td>\n",
       "      <td>30.03</td>\n",
       "    </tr>\n",
       "    <tr>\n",
       "      <th>2011-01-02</th>\n",
       "      <td>NaN</td>\n",
       "      <td>NaN</td>\n",
       "      <td>NaN</td>\n",
       "      <td>NaN</td>\n",
       "      <td>NaN</td>\n",
       "      <td>NaN</td>\n",
       "      <td>NaN</td>\n",
       "      <td>NaN</td>\n",
       "      <td>NaN</td>\n",
       "      <td>NaN</td>\n",
       "      <td>NaN</td>\n",
       "      <td>NaN</td>\n",
       "      <td>NaN</td>\n",
       "      <td>NaN</td>\n",
       "      <td>NaN</td>\n",
       "      <td>NaN</td>\n",
       "    </tr>\n",
       "    <tr>\n",
       "      <th>2011-01-03</th>\n",
       "      <td>13904.0</td>\n",
       "      <td>20110103</td>\n",
       "      <td>2353</td>\n",
       "      <td>12.0</td>\n",
       "      <td>SCT042 OVC055</td>\n",
       "      <td>58.0</td>\n",
       "      <td>9.4</td>\n",
       "      <td>49</td>\n",
       "      <td>9.7</td>\n",
       "      <td>45.0</td>\n",
       "      <td>7.0</td>\n",
       "      <td>79</td>\n",
       "      <td>10.0</td>\n",
       "      <td>200</td>\n",
       "      <td>29.70</td>\n",
       "      <td>M</td>\n",
       "    </tr>\n",
       "    <tr>\n",
       "      <th>2011-01-04</th>\n",
       "      <td>13904.0</td>\n",
       "      <td>20110104</td>\n",
       "      <td>2353</td>\n",
       "      <td>12.0</td>\n",
       "      <td>SCT010 OVC016</td>\n",
       "      <td>57.0</td>\n",
       "      <td>8.9</td>\n",
       "      <td>56</td>\n",
       "      <td>9.4</td>\n",
       "      <td>56.0</td>\n",
       "      <td>8.9</td>\n",
       "      <td>100</td>\n",
       "      <td>8.0</td>\n",
       "      <td>VR</td>\n",
       "      <td>29.59</td>\n",
       "      <td>M</td>\n",
       "    </tr>\n",
       "    <tr>\n",
       "      <th>2011-01-05</th>\n",
       "      <td>13904.0</td>\n",
       "      <td>20110105</td>\n",
       "      <td>0653</td>\n",
       "      <td>12.0</td>\n",
       "      <td>SCT006 OVC011</td>\n",
       "      <td>57.0</td>\n",
       "      <td>14.0</td>\n",
       "      <td>56</td>\n",
       "      <td>13.5</td>\n",
       "      <td>56.0</td>\n",
       "      <td>13.3</td>\n",
       "      <td>96</td>\n",
       "      <td>3.0</td>\n",
       "      <td>250</td>\n",
       "      <td>29.48</td>\n",
       "      <td>M</td>\n",
       "    </tr>\n",
       "  </tbody>\n",
       "</table>\n",
       "</div>"
      ],
      "text/plain": [
       "               Wban      date  Time  StationType  sky_condition  \\\n",
       "2011-01-01  13904.0  20110101  0353         12.0         OVC065   \n",
       "2011-01-02      NaN       NaN   NaN          NaN            NaN   \n",
       "2011-01-03  13904.0  20110103  2353         12.0  SCT042 OVC055   \n",
       "2011-01-04  13904.0  20110104  2353         12.0  SCT010 OVC016   \n",
       "2011-01-05  13904.0  20110105  0653         12.0  SCT006 OVC011   \n",
       "\n",
       "            dry_bulb_faren dry_bulb_cel wet_bulb_faren wet_bulb_cel  \\\n",
       "2011-01-01            51.0         10.6             38          3.1   \n",
       "2011-01-02             NaN          NaN            NaN          NaN   \n",
       "2011-01-03            58.0          9.4             49          9.7   \n",
       "2011-01-04            57.0          8.9             56          9.4   \n",
       "2011-01-05            57.0         14.0             56         13.5   \n",
       "\n",
       "            dew_point_faren dew_point_cel relative_humidity  wind_speed  \\\n",
       "2011-01-01             17.0          -8.3                27        15.0   \n",
       "2011-01-02              NaN           NaN               NaN         NaN   \n",
       "2011-01-03             45.0           7.0                79        10.0   \n",
       "2011-01-04             56.0           8.9               100         8.0   \n",
       "2011-01-05             56.0          13.3                96         3.0   \n",
       "\n",
       "           wind_direction station_pressure sea_level_pressure  \n",
       "2011-01-01            350            29.51              30.03  \n",
       "2011-01-02            NaN              NaN                NaN  \n",
       "2011-01-03            200            29.70                  M  \n",
       "2011-01-04            VR             29.59                  M  \n",
       "2011-01-05            250            29.48                  M  "
      ]
     },
     "execution_count": 39,
     "metadata": {},
     "output_type": "execute_result"
    }
   ],
   "source": [
    "# Using df_clean, when is sky_condition 'CLR'?\n",
    "is_sky_clear = df_clean['sky_condition']=='CLR'\n",
    "\n",
    "# Filter df_clean using is_sky_clear\n",
    "sunny = df_clean.loc[is_sky_clear]\n",
    "\n",
    "# Resample sunny by day then calculate the max\n",
    "sunny_daily_max = sunny.resample('D').max()\n",
    "\n",
    "# See the result\n",
    "sunny_daily_max.head()\n",
    "\n",
    "\n",
    "## Second part of the program\n",
    "\n",
    "# Using df_clean, when does sky_condition contain 'OVC'?\n",
    "is_sky_overcast = df_clean['sky_condition'].str.contains('OVC')\n",
    "\n",
    "# Filter df_clean using is_sky_overcast\n",
    "overcast = df_clean.loc[is_sky_overcast]\n",
    "\n",
    "# Resample overcast by day then calculate the max\n",
    "overcast_daily_max = overcast.resample('D').max()\n",
    "\n",
    "# See the result\n",
    "overcast_daily_max.head()\n",
    "\n",
    "\n",
    "\n",
    "\n",
    "\n"
   ]
  },
  {
   "cell_type": "markdown",
   "metadata": {},
   "source": [
    "### Exercise(12) - Weekly average temperature and visibility\n",
    "Is there a correlation between temperature and visibility? Let&amp;aposs find out. \n",
    "In this exercise, your job is to plot the weekly average temperature and visibility as subplots. To do this, you need to first select the appropriate columns and then resample by week, aggregating the mean. \n",
    "In addition to creating the subplots, you will compute the Pearson correlation coefficient using `` .corr() ``. The Pearson correlation coefficient, known also as Pearson&amp;aposs r, ranges from -1 (indicating total negative linear correlation) to 1 (indicating total positive linear correlation). A value close to 1 here would indicate that there is a strong correlation between temperature and visibility.\n",
    "The DataFrame `` df_clean `` has been pre-loaded for you.\n",
    "\n",
    "\n",
    "\n",
    "#### Instructions\n",
    "\n",
    "\n",
    "*   Import `` matplotlib.pyplot `` as `` plt ``.\n",
    "*   Select the `` visibility `` and `` dry_bulb_faren `` columns and resample them by week, aggregating the mean. Assign the result to `` weekly_mean ``.\n",
    "*   Print the output of `` weekly_mean.corr() ``.\n",
    "*   Plot the `` weekly_mean `` dataframe with `` .plot() ``, specifying `` subplots=True ``.\n"
   ]
  },
  {
   "cell_type": "markdown",
   "metadata": {},
   "source": [
    "``` python\n",
    "# Import matplotlib.pyplot as plt\n",
    "\n",
    "\n",
    "# Select the visibility and dry_bulb_faren columns and resample them: weekly_mean\n",
    "weekly_mean = ____\n",
    "\n",
    "# Print the output of weekly_mean.corr()\n",
    "print(____)\n",
    "\n",
    "# Plot weekly_mean with subplots=True\n",
    "weekly_mean.____(____=____)\n",
    "plt.show()```"
   ]
  },
  {
   "cell_type": "code",
   "execution_count": 40,
   "metadata": {},
   "outputs": [
    {
     "name": "stdout",
     "output_type": "stream",
     "text": [
      "                dry_bulb_faren\n",
      "dry_bulb_faren             1.0\n"
     ]
    },
    {
     "data": {
      "image/png": "[encoded data removed]",
      "text/plain": [
       "<Figure size 432x288 with 1 Axes>"
      ]
     },
     "metadata": {
      "needs_background": "light"
     },
     "output_type": "display_data"
    }
   ],
   "source": [
    "# Import matplotlib.pyplot as plt\n",
    "import matplotlib.pyplot as plt\n",
    "\n",
    "# Select the visibility and dry_bulb_faren columns and resample them: weekly_mean\n",
    "weekly_mean = df_clean[['visibility','dry_bulb_faren']].resample('W').mean()\n",
    "\n",
    "# Print the output of weekly_mean.corr()\n",
    "print(weekly_mean.corr())\n",
    "\n",
    "# Plot weekly_mean with subplots=True\n",
    "weekly_mean.plot(subplots=True)\n",
    "plt.show()"
   ]
  },
  {
   "cell_type": "markdown",
   "metadata": {},
   "source": [
    "### Exercise(13) - Daily hours of clear sky\n",
    "In a previous exercise, you analyzed the `` sky_condition `` column to explore the difference in temperature on sunny days compared to overcast days. Recall that a `` sky_condition `` of `` CLR `` represents a sunny day. In this exercise, you will explore sunny days in greater detail. Specifically, you will use a box plot to visualize the fraction of days that are sunny.\n",
    "The `` sky_condition `` column is recorded hourly. Your job is to resample this column appropriately such that you can extract the number of sunny hours in a day and the number of total hours. Then, you can divide the number of sunny hours by the number of total hours, and generate a box plot of the resulting fraction.\n",
    "As before, `` df_clean `` is available for you in the workspace.\n",
    "\n",
    "\n",
    "\n",
    "#### Instructions\n",
    "\n",
    "\n",
    "*   Get the cases in `` df_clean `` where the sky is clear. That is, when `` sky_condition `` equals `` CLR ``, assigning to `` is_sky_clear ``.\n",
    "*   Resample `` is_sky_clear `` by day, assigning to `` resampled ``.\n"
   ]
  },
  {
   "cell_type": "markdown",
   "metadata": {},
   "source": [
    "``` python\n",
    "# Using df_clean, when is sky_condition 'CLR'?\n",
    "is_sky_clear = ____\n",
    "\n",
    "# Resample is_sky_clear by day\n",
    "resampled = ____\n",
    "\n",
    "# See the result\n",
    "resampled```"
   ]
  },
  {
   "cell_type": "code",
   "execution_count": 41,
   "metadata": {},
   "outputs": [
    {
     "data": {
      "text/plain": [
       "DatetimeIndexResampler [freq=<Day>, axis=0, closed=left, label=left, convention=start, base=0]"
      ]
     },
     "execution_count": 41,
     "metadata": {},
     "output_type": "execute_result"
    }
   ],
   "source": [
    "# Using df_clean, when is sky_condition 'CLR'?\n",
    "is_sky_clear = df_clean['sky_condition'] == 'CLR'\n",
    "\n",
    "# Resample is_sky_clear by day\n",
    "resampled = is_sky_clear.resample('D')\n",
    "\n",
    "# See the result\n",
    "resampled"
   ]
  },
  {
   "cell_type": "markdown",
   "metadata": {},
   "source": [
    "### Exercise(14) - Heat or humidity\n",
    "Dew point is a measure of relative humidity based on pressure and temperature.A dew point above 65 is considered uncomfortable while a temperature above 90 is also considereduncomfortable.\n",
    "In this exercise, you will explore the maximum temperature and dew point of each month. The columns of interest are `` dew_point_faren `` and `` dry_bulb_faren ``. After resampling them appropriately to get the maximum temperature and dew point in each month, generate a histogram of these values as subplots. Uncomfortably, you will notice that the maximum dew point is above 65 every month! \n",
    "`` df_clean `` has been pre-loaded for you.\n",
    "\n",
    "\n",
    "\n",
    "#### Instructions\n",
    "\n",
    "\n",
    "*   Select the `` dew_point_faren `` and `` dry_bulb_faren `` columns (in that order). Resample by month and aggregate the maximum monthly temperatures. Assign the result to `` monthly_max ``.\n",
    "*   Plot a histogram of the resampled data with `` bins=8 ``, `` alpha=0.5 ``, and `` subplots=True ``."
   ]
  },
  {
   "cell_type": "markdown",
   "metadata": {},
   "source": [
    "```python\n",
    "# Resample dew_point_faren and dry_bulb_faren by Month, aggregating the maximum values: monthly_max\n",
    "monthly_max = ____\n",
    "\n",
    "# Generate a histogram with bins=8, alpha=0.5, subplots=True\n",
    "____\n",
    "\n",
    "# Show the plot\n",
    "plt.show()```"
   ]
  },
  {
   "cell_type": "code",
   "execution_count": 42,
   "metadata": {},
   "outputs": [
    {
     "data": {
      "image/png": "[encoded data removed]",
      "text/plain": [
       "<Figure size 432x288 with 2 Axes>"
      ]
     },
     "metadata": {
      "needs_background": "light"
     },
     "output_type": "display_data"
    }
   ],
   "source": [
    "# Resample dew_point_faren and dry_bulb_faren by Month, aggregating the maximum values: monthly_max\n",
    "monthly_max = df_clean[['dew_point_faren','dry_bulb_faren']].resample('M').max()\n",
    "\n",
    "# Generate a histogram with bins=8, alpha=0.5, subplots=True\n",
    "monthly_max.plot(subplots = True)\n",
    "\n",
    "# Show the plot\n",
    "plt.show()"
   ]
  },
  {
   "cell_type": "markdown",
   "metadata": {},
   "source": [
    "### Exercise(15) - Probability of high temperatures\n",
    "We already know that 2011 was hotter than the climate normals for the previous thirty years. In this final exercise, you will compare the maximum temperature in August 2011 against that of the August 2010 climate normals. More specifically, you will use a CDF plot to determine the probability of the 2011 daily maximum temperature in August being above the 2010 climate normal value. To do this, you will leverage the data manipulation, filtering, resampling, and visualization skills you have acquired throughout this course. \n",
    "The two DataFrames `` df_clean `` and `` df_climate `` are available in the workspace. Your job is to select the maximum temperature in August in `` df_climate ``, and then maximum daily temperatures in August 2011. You will then filter out the days in August 2011 that were above the August 2010 maximum, and use this to construct a CDF plot. \n",
    "Once you&amp;aposve generated the CDF, notice how it shows that there was a 50% probability of the 2011 daily maximum temperature in August being 5 degreesabove the 2010 climate normal value!\n",
    "\n",
    "\n",
    "\n",
    "#### Instructions\n",
    "\n",
    "\n",
    "*   From `` df_climate ``, extract the maximum temperature observed in August 2010. The relevant column here is `` Temperature ``. You can select the rows corresponding to August 2010 in multiple ways. For example, `` df_climate.loc[2011-Feb] `` selects all rows corresponding to February 2011, while `` df_climate.loc[2009-09, Pressure] `` selects the rows corresponding to September 2009 from the `` Pressure `` column.\n",
    "*   From `` df_clean ``, select the August 2011 temperature data from the `` dry_bulb_faren ``. Resample this data by day and aggregate the maximum value. Store the result in `` august_2011 ``.\n",
    "*   Filter rows of `` august_2011 `` to keep days where the value exceeded `` august_max ``. Store the result in `` august_2011_high ``.\n",
    "*   Construct a CDF of `` august_2011_high `` using 25 bins. Remember to specify the `` kind ``, `` normed ``, and `` cumulative `` parameters in addition to `` bins ``."
   ]
  },
  {
   "cell_type": "markdown",
   "metadata": {},
   "source": [
    "```python\n",
    "# Extract the maximum temperature in August 2010 from df_climate: august_max\n",
    "august_max = ____\n",
    "print(august_max)\n",
    "\n",
    "# Resample August 2011 temps in df_clean by day & aggregate the max value: august_2011\n",
    "august_2011 = ____\n",
    "\n",
    "\n",
    "# Filter for days in august_2011 where the value exceeds august_max: august_2011_high\n",
    "\n",
    "august_2011_high = ____\n",
    "\n",
    "# Construct a CDF of august_2011_high\n",
    "____\n",
    "\n",
    "# Display the plot\n",
    "plt.show()```"
   ]
  },
  {
   "cell_type": "code",
   "execution_count": 43,
   "metadata": {},
   "outputs": [
    {
     "name": "stdout",
     "output_type": "stream",
     "text": [
      "95.3\n"
     ]
    },
    {
     "name": "stderr",
     "output_type": "stream",
     "text": [
      "C:\\Users\\siri\\Anaconda3\\lib\\site-packages\\matplotlib\\axes\\_axes.py:6521: MatplotlibDeprecationWarning: \n",
      "The 'normed' kwarg was deprecated in Matplotlib 2.1 and will be removed in 3.1. Use 'density' instead.\n",
      "  alternative=\"'density'\", removal=\"3.1\")\n"
     ]
    },
    {
     "data": {
      "image/png": "[encoded data removed]",
      "text/plain": [
       "<Figure size 432x288 with 1 Axes>"
      ]
     },
     "metadata": {
      "needs_background": "light"
     },
     "output_type": "display_data"
    }
   ],
   "source": [
    "# Extract the maximum temperature in August 2010 from df_climate: august_max\n",
    "august_max = df_climate.loc['2010-08', 'Temperature'].max()\n",
    "print(august_max)\n",
    "\n",
    "# Resample August 2011 temps in df_clean by day & aggregate the max value: august_2011\n",
    "august_2011 = df_clean.loc['2011-08','dry_bulb_faren'].resample('D').max()\n",
    "\n",
    "\n",
    "# Filter for days in august_2011 where the value exceeds august_max: august_2011_high\n",
    "\n",
    "august_2011_high = august_2011.loc[august_2011 > august_max]\n",
    "\n",
    "# Construct a CDF of august_2011_high\n",
    "august_2011_high.plot(bins=25,kind='hist',normed=True,cumulative = True)\n",
    "\n",
    "# Display the plot\n",
    "plt.show()"
   ]
  },
  {
   "cell_type": "code",
   "execution_count": null,
   "metadata": {},
   "outputs": [],
   "source": []
  }
 ],
 "metadata": {
  "kernelspec": {
   "display_name": "Python 3",
   "language": "python",
   "name": "python3"
  },
  "language_info": {
   "codemirror_mode": {
    "name": "ipython",
    "version": 3
   },
   "file_extension": ".py",
   "mimetype": "text/x-python",
   "name": "python",
   "nbconvert_exporter": "python",
   "pygments_lexer": "ipython3",
   "version": "3.7.1"
  }
 },
 "nbformat": 4,
 "nbformat_minor": 2
}
